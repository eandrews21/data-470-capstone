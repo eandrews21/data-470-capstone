{
 "cells": [
  {
   "cell_type": "markdown",
   "metadata": {
    "collapsed": true
   },
   "source": [
    "# Background Section\n",
    "\n",
    "### Using Oceanic Wave Data and Moon Phases to Predict Ocean Patterns and Animal Activity\n",
    "\n",
    "   Weather patterns are some of the most unpredictable phenomena on the planet. Despite all the innovations of the past 200 years, it still seems as though predicting the weather on a day to day basis is simply a guessing game. Even the best and brightest meteorologists frequently make mistakes with their predictions. However, that does not stop them from continually trying to improve. Whether it be new technology and refining existing tools, humanity is always attempting to move further towards perfection.\n",
    "    \n",
    "   This attempt to better predict weather patterns corresponds with attempting to better understand oceanic patterns as well. After all, with the amount of international trade that takes place via ships, in addition to the millions of tourists that take beach vacations every year and do not wish to be disturbed by shallow swimming sharks, understanding oceanic patterns and how they affect sea life is an important endeavor. \n",
    "    \n",
    "   With that being said, this project seeks to answer multiple questions about ocean patterns using wave data collected by buoys off of the coast of Queensland, Australia. The first problem that this dataset will be used for is finding relationships between the wave dataset variables. More specifically, can one variable or a combination of a few variables be used to accurately predict another one? The dataset has seven unique variables: date, time, average wave height, maximum wave height, average wave energy, wave frequency, wave peak direction, and sea surface temperature. The most important of these variables will be average and maximum wave height. Since greater wave height is generally associated with dangerous ocean conditions, being able to predict when waves were going to be at their largest would have positive real-world applications. Therefore, can sea surface temperature, date, time, wave peak direction, and wave energy by used to accurately and reliably predict average and maximum wave heights?\n",
    "    \n",
    "   Another problem that this project seeks to address is finding the correspondence, if one exists, between moon phases and oceanic patterns. It is generally known that the moon has an effect on wave patterns due to its gravitational pull on earth. However, the extent of this effect is worth looking into. Thus, this project seeks to examine whether moon phases can accurately and reliably predict any of the wave specific variable (average height, max height, peak direction, average energy, and frequency) in the wave dataset? \n",
    "    \n",
    "   Finally, this project will look at the problem of predicting animal (specifically sharks) activity along coastlines. Using data gathered via protective netting around portions of the Queensland coastline, it is possible to determine when sharks got a little too close for comfort to the shoreline. Combined with the wave data date it is possible to determine the general conditions of the ocean when these sharks got too close. Based on this data, this project will ask can oceanic data be used to predict the conditions that sharks will be most likely to end up near the shoreline?\n",
    "    \n",
    "   These problems are interesting for a multitude of reasons. The most prevalent of which are the safety concerns that this data can help combat. Over one hundred people suffer from shark attacks every year. More than three thousand people drown in the ocean per year. Nearly three dozen ships disappear or are destroyed in that same time frame. These may not be the most frightening number, but they clearly show that it is feasible to improve safety when it comes to the ocean. If this project is able to track and predict ocean patterns and shark activity, it will give more data to those people with the resources to improve ocean safety. These people, most likely government officials, are the ones who would be interested in this problem. If they were able to predict when the ocean would be at its most dangerous beforehand, they could forbid ships and beachgoers alike from entering the water until it is safer. \n",
    "    \n",
    "   There are a lot of studies out there that examine some of these questions. One study looked at the relationship between sea surface temperature and wave height. After a comprehensive study of this relationship, the researchers came to the conclusion that warmer sea surface temperatures were positively correlated with greater wave heights (Markina, Studholme, and Gulev). Another study looked at the role oceanic temperature played on shark habitation trends. The conclusion that this study found was that sharks generally were most active when the water temperature was about 28 degrees Celsius (Andrzejaczek). A third study examined the relationship between the phase of the moon and the height of waves. The study came to the conclusion that waves were at their greatest height during full and new moons as compared to quarter moons (Murmson). As these studies show, there is plenty of research and data on most of these topics. However, that does not mean that researchers have even scratched the tip of the iceberg on what can be learned about oceanic patterns. It will be very interesting to see if these studies are supported by the findings of this project. This project will, hopefully, also add some new findings to the existing knowledge base that academia has compiled on this topic. \n",
    "    \n",
    "##### Citations\n",
    "M. Y. Markina, J. H. P. Studholme and S. K. Gulev, Ocean Wind Wave Climate Responses to Wintertime North Atlantic Atmospheric Transient Eddies and Low-Frequency Flow, Journal of Climate, 10.1175/JCLI-D-18-0595.1, 32, 17, (5619-5638), (2019).\n",
    "\n",
    "Andrzejaczek, Samantha et al. “Temperature and the vertical movements of oceanic whitetip sharks, Carcharhinus longimanus.” Scientific reports vol. 8,1 8351. 29 May. 2018, doi:10.1038/s41598-018-26485-3\n",
    "\n",
    "Murmson, Serm. \"The Effects of the Moon Phases on Ocean Tides\" sciencing.com, https://sciencing.com/effects-moon-phases-ocean-tides-8435550.html. 22 October 2019.\n"
   ]
  },
  {
   "cell_type": "markdown",
   "metadata": {},
   "source": [
    "# Data Sources\n",
    "\n",
    "   The data that will be used for analysis during this project comes from three seperate data sources. The first two data scources come from the Queensland, Australia government website. The first source (https://www.data.qld.gov.au/dataset/coastal-data-system-waves-townsville) contains all the data relating to the actual waves such as height, freqeuncy, and sea surface temperature. The second data source (https://www.data.qld.gov.au/dataset/shark-control-program-shark-catch-statistics) contains all the data relating towards sharks that were caught near the shoreline. The third data source is one that I made myself to incorperate the phase of the moon into my analysis. It only includes the date and the moon phase as its variables."
   ]
  },
  {
   "cell_type": "markdown",
   "metadata": {},
   "source": [
    "# Methodology"
   ]
  },
  {
   "cell_type": "markdown",
   "metadata": {},
   "source": [
    "## Data Processing"
   ]
  },
  {
   "cell_type": "code",
   "execution_count": 2,
   "metadata": {
    "collapsed": false
   },
   "outputs": [
    {
     "name": "stdout",
     "output_type": "stream",
     "text": [
      "\u001b[33mDEPRECATION: Python 3.4 support has been deprecated. pip 19.1 will be the last one supporting it. Please upgrade your Python as Python 3.4 won't be maintained after March 2019 (cf PEP 429).\u001b[0m\n",
      "Requirement already up-to-date: pip in /usr/local/lib/python3.4/dist-packages (19.1.1)\n",
      "\u001b[33mDEPRECATION: Python 3.4 support has been deprecated. pip 19.1 will be the last one supporting it. Please upgrade your Python as Python 3.4 won't be maintained after March 2019 (cf PEP 429).\u001b[0m\n",
      "Requirement already satisfied: sklearn in /usr/local/lib/python3.4/dist-packages (0.0)\n",
      "Requirement already satisfied: scikit-learn in /usr/local/lib/python3.4/dist-packages (from sklearn) (0.20.4)\n",
      "Requirement already satisfied: numpy>=1.8.2 in /usr/local/lib/python3.4/dist-packages (from scikit-learn->sklearn) (1.14.0)\n",
      "Requirement already satisfied: scipy>=0.13.3 in /usr/lib/python3/dist-packages (from scikit-learn->sklearn) (0.13.3)\n"
     ]
    }
   ],
   "source": [
    "!sudo -H pip3 install --upgrade pip\n",
    "!sudo pip install sklearn"
   ]
  },
  {
   "cell_type": "code",
   "execution_count": 3,
   "metadata": {
    "collapsed": true
   },
   "outputs": [],
   "source": [
    "import numpy as np \n",
    "import pandas as pd\n",
    "from scipy import ndimage \n",
    "from scipy.cluster import hierarchy \n",
    "from scipy.spatial import distance_matrix \n",
    "from matplotlib import pyplot as plt \n",
    "from sklearn import manifold, datasets \n",
    "from sklearn.cluster import AgglomerativeClustering \n",
    "from sklearn.datasets.samples_generator import make_blobs \n",
    "from scipy.stats import pearsonr\n",
    "%matplotlib inline"
   ]
  },
  {
   "cell_type": "markdown",
   "metadata": {},
   "source": [
    "#### Importing the three data tables that I will be using"
   ]
  },
  {
   "cell_type": "code",
   "execution_count": 4,
   "metadata": {
    "collapsed": false
   },
   "outputs": [],
   "source": [
    "csv_path = 'wave_data.csv'\n",
    "df = pd.read_csv(csv_path)\n",
    "csv_path1 = 'shark_data.csv'\n",
    "shark = pd.read_csv(csv_path1)\n",
    "csv_path2 = 'Moon Phases.csv'\n",
    "moon = pd.read_csv(csv_path2)"
   ]
  },
  {
   "cell_type": "code",
   "execution_count": 5,
   "metadata": {
    "collapsed": false
   },
   "outputs": [
    {
     "data": {
      "text/html": [
       "<div>\n",
       "<style scoped>\n",
       "    .dataframe tbody tr th:only-of-type {\n",
       "        vertical-align: middle;\n",
       "    }\n",
       "\n",
       "    .dataframe tbody tr th {\n",
       "        vertical-align: top;\n",
       "    }\n",
       "\n",
       "    .dataframe thead th {\n",
       "        text-align: right;\n",
       "    }\n",
       "</style>\n",
       "<table border=\"1\" class=\"dataframe\">\n",
       "  <thead>\n",
       "    <tr style=\"text-align: right;\">\n",
       "      <th></th>\n",
       "      <th>Species Name</th>\n",
       "      <th>Species Code</th>\n",
       "      <th>Date</th>\n",
       "      <th>Area</th>\n",
       "      <th>Location</th>\n",
       "      <th>Latitude</th>\n",
       "      <th>Longitude</th>\n",
       "      <th>Fate</th>\n",
       "      <th>Length (m)</th>\n",
       "      <th>Water Temp (C)</th>\n",
       "      <th>Number Caught</th>\n",
       "    </tr>\n",
       "  </thead>\n",
       "  <tbody>\n",
       "    <tr>\n",
       "      <th>0</th>\n",
       "      <td>BULL WHALER</td>\n",
       "      <td>37018021.0</td>\n",
       "      <td>8/4/17</td>\n",
       "      <td>Bribie Island</td>\n",
       "      <td>Woorim (Bribie Island)</td>\n",
       "      <td>-27.06835189</td>\n",
       "      <td>153.2113376</td>\n",
       "      <td>Dead</td>\n",
       "      <td>1.55</td>\n",
       "      <td>21.0</td>\n",
       "      <td>1</td>\n",
       "    </tr>\n",
       "    <tr>\n",
       "      <th>1</th>\n",
       "      <td>TIGER SHARK</td>\n",
       "      <td>37018022.0</td>\n",
       "      <td>8/8/17</td>\n",
       "      <td>Bribie Island</td>\n",
       "      <td>Woorim (Bribie Island)</td>\n",
       "      <td>27.06511</td>\n",
       "      <td>153.2108</td>\n",
       "      <td>Euthanised</td>\n",
       "      <td>3.55</td>\n",
       "      <td>19.0</td>\n",
       "      <td>1</td>\n",
       "    </tr>\n",
       "    <tr>\n",
       "      <th>2</th>\n",
       "      <td>BULL WHALER</td>\n",
       "      <td>37018021.0</td>\n",
       "      <td>3/3/17</td>\n",
       "      <td>Bundaberg</td>\n",
       "      <td>Neilson Park</td>\n",
       "      <td>-24.80429012</td>\n",
       "      <td>152.4641092</td>\n",
       "      <td>Dead</td>\n",
       "      <td>1.56</td>\n",
       "      <td>26.0</td>\n",
       "      <td>1</td>\n",
       "    </tr>\n",
       "    <tr>\n",
       "      <th>3</th>\n",
       "      <td>BULL WHALER</td>\n",
       "      <td>37018021.0</td>\n",
       "      <td>3/3/17</td>\n",
       "      <td>Bundaberg</td>\n",
       "      <td>Kellys Beach</td>\n",
       "      <td>-24.83788865</td>\n",
       "      <td>152.4673179</td>\n",
       "      <td>Dead</td>\n",
       "      <td>1.79</td>\n",
       "      <td>26.0</td>\n",
       "      <td>1</td>\n",
       "    </tr>\n",
       "    <tr>\n",
       "      <th>4</th>\n",
       "      <td>BULL WHALER</td>\n",
       "      <td>37018021.0</td>\n",
       "      <td>17/03/2017</td>\n",
       "      <td>Bundaberg</td>\n",
       "      <td>Neilson Park</td>\n",
       "      <td>-24.80864323</td>\n",
       "      <td>152.4327342</td>\n",
       "      <td>Dead</td>\n",
       "      <td>1.56</td>\n",
       "      <td>26.0</td>\n",
       "      <td>1</td>\n",
       "    </tr>\n",
       "  </tbody>\n",
       "</table>\n",
       "</div>"
      ],
      "text/plain": [
       "  Species Name  Species Code        Date           Area  \\\n",
       "0  BULL WHALER    37018021.0      8/4/17  Bribie Island   \n",
       "1  TIGER SHARK    37018022.0      8/8/17  Bribie Island   \n",
       "2  BULL WHALER    37018021.0      3/3/17      Bundaberg   \n",
       "3  BULL WHALER    37018021.0      3/3/17      Bundaberg   \n",
       "4  BULL WHALER    37018021.0  17/03/2017      Bundaberg   \n",
       "\n",
       "                 Location      Latitude    Longitude        Fate  Length (m)  \\\n",
       "0  Woorim (Bribie Island)  -27.06835189  153.2113376        Dead        1.55   \n",
       "1  Woorim (Bribie Island)      27.06511     153.2108  Euthanised        3.55   \n",
       "2            Neilson Park  -24.80429012  152.4641092        Dead        1.56   \n",
       "3            Kellys Beach  -24.83788865  152.4673179        Dead        1.79   \n",
       "4            Neilson Park  -24.80864323  152.4327342        Dead        1.56   \n",
       "\n",
       "   Water Temp (C)  Number Caught  \n",
       "0            21.0              1  \n",
       "1            19.0              1  \n",
       "2            26.0              1  \n",
       "3            26.0              1  \n",
       "4            26.0              1  "
      ]
     },
     "execution_count": 5,
     "metadata": {},
     "output_type": "execute_result"
    }
   ],
   "source": [
    "shark.head()"
   ]
  },
  {
   "cell_type": "markdown",
   "metadata": {},
   "source": [
    "#### Shark dataset has a lot of information that I will not be using. First I will make it more usable for my research purposes"
   ]
  },
  {
   "cell_type": "code",
   "execution_count": 6,
   "metadata": {
    "collapsed": false
   },
   "outputs": [
    {
     "data": {
      "text/html": [
       "<div>\n",
       "<style scoped>\n",
       "    .dataframe tbody tr th:only-of-type {\n",
       "        vertical-align: middle;\n",
       "    }\n",
       "\n",
       "    .dataframe tbody tr th {\n",
       "        vertical-align: top;\n",
       "    }\n",
       "\n",
       "    .dataframe thead th {\n",
       "        text-align: right;\n",
       "    }\n",
       "</style>\n",
       "<table border=\"1\" class=\"dataframe\">\n",
       "  <thead>\n",
       "    <tr style=\"text-align: right;\">\n",
       "      <th></th>\n",
       "      <th>Number Caught</th>\n",
       "      <th>Date</th>\n",
       "    </tr>\n",
       "    <tr>\n",
       "      <th>Date</th>\n",
       "      <th></th>\n",
       "      <th></th>\n",
       "    </tr>\n",
       "  </thead>\n",
       "  <tbody>\n",
       "    <tr>\n",
       "      <th>1/11/17</th>\n",
       "      <td>1</td>\n",
       "      <td>1/11/17</td>\n",
       "    </tr>\n",
       "    <tr>\n",
       "      <th>1/14/17</th>\n",
       "      <td>2</td>\n",
       "      <td>1/14/17</td>\n",
       "    </tr>\n",
       "    <tr>\n",
       "      <th>1/17/17</th>\n",
       "      <td>1</td>\n",
       "      <td>1/17/17</td>\n",
       "    </tr>\n",
       "    <tr>\n",
       "      <th>1/19/17</th>\n",
       "      <td>2</td>\n",
       "      <td>1/19/17</td>\n",
       "    </tr>\n",
       "    <tr>\n",
       "      <th>1/21/17</th>\n",
       "      <td>2</td>\n",
       "      <td>1/21/17</td>\n",
       "    </tr>\n",
       "  </tbody>\n",
       "</table>\n",
       "</div>"
      ],
      "text/plain": [
       "         Number Caught     Date\n",
       "Date                           \n",
       "1/11/17              1  1/11/17\n",
       "1/14/17              2  1/14/17\n",
       "1/17/17              1  1/17/17\n",
       "1/19/17              2  1/19/17\n",
       "1/21/17              2  1/21/17"
      ]
     },
     "execution_count": 6,
     "metadata": {},
     "output_type": "execute_result"
    }
   ],
   "source": [
    "shark1 = shark[shark.Area == 'Townsville']\n",
    "shark2 = shark1[['Date', 'Number Caught']]\n",
    "sharkData = shark2.groupby('Date').count()\n",
    "sharkData['Date'] = sharkData.index\n",
    "sharkData.head()"
   ]
  },
  {
   "cell_type": "markdown",
   "metadata": {},
   "source": [
    "#### Next I need to break up the df Date/Time column into seperate Date and Time columns to properly merge with the other dataframes"
   ]
  },
  {
   "cell_type": "code",
   "execution_count": 7,
   "metadata": {
    "collapsed": false
   },
   "outputs": [
    {
     "data": {
      "text/html": [
       "<div>\n",
       "<style scoped>\n",
       "    .dataframe tbody tr th:only-of-type {\n",
       "        vertical-align: middle;\n",
       "    }\n",
       "\n",
       "    .dataframe tbody tr th {\n",
       "        vertical-align: top;\n",
       "    }\n",
       "\n",
       "    .dataframe thead th {\n",
       "        text-align: right;\n",
       "    }\n",
       "</style>\n",
       "<table border=\"1\" class=\"dataframe\">\n",
       "  <thead>\n",
       "    <tr style=\"text-align: right;\">\n",
       "      <th></th>\n",
       "      <th>Date/Time</th>\n",
       "      <th>Hs</th>\n",
       "      <th>Hmax</th>\n",
       "      <th>Tz</th>\n",
       "      <th>Tp</th>\n",
       "      <th>Peak Direction</th>\n",
       "      <th>SST</th>\n",
       "    </tr>\n",
       "  </thead>\n",
       "  <tbody>\n",
       "    <tr>\n",
       "      <th>0</th>\n",
       "      <td>1/1/17 1:00</td>\n",
       "      <td>0.488</td>\n",
       "      <td>0.88</td>\n",
       "      <td>3.356</td>\n",
       "      <td>3.647</td>\n",
       "      <td>42.48</td>\n",
       "      <td>29.25</td>\n",
       "    </tr>\n",
       "    <tr>\n",
       "      <th>1</th>\n",
       "      <td>1/1/17 1:30</td>\n",
       "      <td>0.517</td>\n",
       "      <td>0.94</td>\n",
       "      <td>3.323</td>\n",
       "      <td>3.441</td>\n",
       "      <td>29.48</td>\n",
       "      <td>29.20</td>\n",
       "    </tr>\n",
       "    <tr>\n",
       "      <th>2</th>\n",
       "      <td>1/1/17 2:00</td>\n",
       "      <td>0.495</td>\n",
       "      <td>0.97</td>\n",
       "      <td>3.526</td>\n",
       "      <td>3.885</td>\n",
       "      <td>35.48</td>\n",
       "      <td>29.20</td>\n",
       "    </tr>\n",
       "    <tr>\n",
       "      <th>3</th>\n",
       "      <td>1/1/17 2:30</td>\n",
       "      <td>0.463</td>\n",
       "      <td>0.94</td>\n",
       "      <td>3.408</td>\n",
       "      <td>3.796</td>\n",
       "      <td>33.48</td>\n",
       "      <td>29.20</td>\n",
       "    </tr>\n",
       "    <tr>\n",
       "      <th>4</th>\n",
       "      <td>1/1/17 3:00</td>\n",
       "      <td>0.485</td>\n",
       "      <td>0.91</td>\n",
       "      <td>3.521</td>\n",
       "      <td>3.748</td>\n",
       "      <td>39.48</td>\n",
       "      <td>29.20</td>\n",
       "    </tr>\n",
       "  </tbody>\n",
       "</table>\n",
       "</div>"
      ],
      "text/plain": [
       "     Date/Time     Hs  Hmax     Tz     Tp  Peak Direction    SST\n",
       "0  1/1/17 1:00  0.488  0.88  3.356  3.647           42.48  29.25\n",
       "1  1/1/17 1:30  0.517  0.94  3.323  3.441           29.48  29.20\n",
       "2  1/1/17 2:00  0.495  0.97  3.526  3.885           35.48  29.20\n",
       "3  1/1/17 2:30  0.463  0.94  3.408  3.796           33.48  29.20\n",
       "4  1/1/17 3:00  0.485  0.91  3.521  3.748           39.48  29.20"
      ]
     },
     "execution_count": 7,
     "metadata": {},
     "output_type": "execute_result"
    }
   ],
   "source": [
    "df.head()"
   ]
  },
  {
   "cell_type": "code",
   "execution_count": 8,
   "metadata": {
    "collapsed": false
   },
   "outputs": [
    {
     "data": {
      "text/html": [
       "<div>\n",
       "<style scoped>\n",
       "    .dataframe tbody tr th:only-of-type {\n",
       "        vertical-align: middle;\n",
       "    }\n",
       "\n",
       "    .dataframe tbody tr th {\n",
       "        vertical-align: top;\n",
       "    }\n",
       "\n",
       "    .dataframe thead th {\n",
       "        text-align: right;\n",
       "    }\n",
       "</style>\n",
       "<table border=\"1\" class=\"dataframe\">\n",
       "  <thead>\n",
       "    <tr style=\"text-align: right;\">\n",
       "      <th></th>\n",
       "      <th>Date/Time</th>\n",
       "      <th>Hs</th>\n",
       "      <th>Hmax</th>\n",
       "      <th>Tz</th>\n",
       "      <th>Tp</th>\n",
       "      <th>Peak Direction</th>\n",
       "      <th>SST</th>\n",
       "      <th>Date</th>\n",
       "      <th>Time</th>\n",
       "    </tr>\n",
       "  </thead>\n",
       "  <tbody>\n",
       "    <tr>\n",
       "      <th>0</th>\n",
       "      <td>1/1/17 1:00</td>\n",
       "      <td>0.488</td>\n",
       "      <td>0.88</td>\n",
       "      <td>3.356</td>\n",
       "      <td>3.647</td>\n",
       "      <td>42.48</td>\n",
       "      <td>29.25</td>\n",
       "      <td>1/1/17</td>\n",
       "      <td>1:00</td>\n",
       "    </tr>\n",
       "    <tr>\n",
       "      <th>1</th>\n",
       "      <td>1/1/17 1:30</td>\n",
       "      <td>0.517</td>\n",
       "      <td>0.94</td>\n",
       "      <td>3.323</td>\n",
       "      <td>3.441</td>\n",
       "      <td>29.48</td>\n",
       "      <td>29.20</td>\n",
       "      <td>1/1/17</td>\n",
       "      <td>1:30</td>\n",
       "    </tr>\n",
       "    <tr>\n",
       "      <th>2</th>\n",
       "      <td>1/1/17 2:00</td>\n",
       "      <td>0.495</td>\n",
       "      <td>0.97</td>\n",
       "      <td>3.526</td>\n",
       "      <td>3.885</td>\n",
       "      <td>35.48</td>\n",
       "      <td>29.20</td>\n",
       "      <td>1/1/17</td>\n",
       "      <td>2:00</td>\n",
       "    </tr>\n",
       "    <tr>\n",
       "      <th>3</th>\n",
       "      <td>1/1/17 2:30</td>\n",
       "      <td>0.463</td>\n",
       "      <td>0.94</td>\n",
       "      <td>3.408</td>\n",
       "      <td>3.796</td>\n",
       "      <td>33.48</td>\n",
       "      <td>29.20</td>\n",
       "      <td>1/1/17</td>\n",
       "      <td>2:30</td>\n",
       "    </tr>\n",
       "    <tr>\n",
       "      <th>4</th>\n",
       "      <td>1/1/17 3:00</td>\n",
       "      <td>0.485</td>\n",
       "      <td>0.91</td>\n",
       "      <td>3.521</td>\n",
       "      <td>3.748</td>\n",
       "      <td>39.48</td>\n",
       "      <td>29.20</td>\n",
       "      <td>1/1/17</td>\n",
       "      <td>3:00</td>\n",
       "    </tr>\n",
       "  </tbody>\n",
       "</table>\n",
       "</div>"
      ],
      "text/plain": [
       "     Date/Time     Hs  Hmax     Tz     Tp  Peak Direction    SST    Date  Time\n",
       "0  1/1/17 1:00  0.488  0.88  3.356  3.647           42.48  29.25  1/1/17  1:00\n",
       "1  1/1/17 1:30  0.517  0.94  3.323  3.441           29.48  29.20  1/1/17  1:30\n",
       "2  1/1/17 2:00  0.495  0.97  3.526  3.885           35.48  29.20  1/1/17  2:00\n",
       "3  1/1/17 2:30  0.463  0.94  3.408  3.796           33.48  29.20  1/1/17  2:30\n",
       "4  1/1/17 3:00  0.485  0.91  3.521  3.748           39.48  29.20  1/1/17  3:00"
      ]
     },
     "execution_count": 8,
     "metadata": {},
     "output_type": "execute_result"
    }
   ],
   "source": [
    "new = df[\"Date/Time\"].str.split(\" \", n = 1, expand = True)\n",
    "df[\"Date\"]= new[0] \n",
    "df[\"Time\"]= new[1] \n",
    "df.head()"
   ]
  },
  {
   "cell_type": "markdown",
   "metadata": {},
   "source": [
    "#### Merging the three dataframes"
   ]
  },
  {
   "cell_type": "code",
   "execution_count": 9,
   "metadata": {
    "collapsed": false
   },
   "outputs": [
    {
     "data": {
      "text/html": [
       "<div>\n",
       "<style scoped>\n",
       "    .dataframe tbody tr th:only-of-type {\n",
       "        vertical-align: middle;\n",
       "    }\n",
       "\n",
       "    .dataframe tbody tr th {\n",
       "        vertical-align: top;\n",
       "    }\n",
       "\n",
       "    .dataframe thead th {\n",
       "        text-align: right;\n",
       "    }\n",
       "</style>\n",
       "<table border=\"1\" class=\"dataframe\">\n",
       "  <thead>\n",
       "    <tr style=\"text-align: right;\">\n",
       "      <th></th>\n",
       "      <th>Hs</th>\n",
       "      <th>Hmax</th>\n",
       "      <th>Tz</th>\n",
       "      <th>Tp</th>\n",
       "      <th>Peak Direction</th>\n",
       "      <th>SST</th>\n",
       "      <th>Date</th>\n",
       "      <th>Time</th>\n",
       "      <th>Number Caught</th>\n",
       "      <th>Moon Phase</th>\n",
       "    </tr>\n",
       "  </thead>\n",
       "  <tbody>\n",
       "    <tr>\n",
       "      <th>0</th>\n",
       "      <td>0.488</td>\n",
       "      <td>0.88</td>\n",
       "      <td>3.356</td>\n",
       "      <td>3.647</td>\n",
       "      <td>42.48</td>\n",
       "      <td>29.25</td>\n",
       "      <td>1/1/17</td>\n",
       "      <td>1:00</td>\n",
       "      <td>0.0</td>\n",
       "      <td>FQ</td>\n",
       "    </tr>\n",
       "    <tr>\n",
       "      <th>1</th>\n",
       "      <td>0.517</td>\n",
       "      <td>0.94</td>\n",
       "      <td>3.323</td>\n",
       "      <td>3.441</td>\n",
       "      <td>29.48</td>\n",
       "      <td>29.20</td>\n",
       "      <td>1/1/17</td>\n",
       "      <td>1:30</td>\n",
       "      <td>0.0</td>\n",
       "      <td>FQ</td>\n",
       "    </tr>\n",
       "    <tr>\n",
       "      <th>2</th>\n",
       "      <td>0.495</td>\n",
       "      <td>0.97</td>\n",
       "      <td>3.526</td>\n",
       "      <td>3.885</td>\n",
       "      <td>35.48</td>\n",
       "      <td>29.20</td>\n",
       "      <td>1/1/17</td>\n",
       "      <td>2:00</td>\n",
       "      <td>0.0</td>\n",
       "      <td>FQ</td>\n",
       "    </tr>\n",
       "    <tr>\n",
       "      <th>3</th>\n",
       "      <td>0.463</td>\n",
       "      <td>0.94</td>\n",
       "      <td>3.408</td>\n",
       "      <td>3.796</td>\n",
       "      <td>33.48</td>\n",
       "      <td>29.20</td>\n",
       "      <td>1/1/17</td>\n",
       "      <td>2:30</td>\n",
       "      <td>0.0</td>\n",
       "      <td>FQ</td>\n",
       "    </tr>\n",
       "    <tr>\n",
       "      <th>4</th>\n",
       "      <td>0.485</td>\n",
       "      <td>0.91</td>\n",
       "      <td>3.521</td>\n",
       "      <td>3.748</td>\n",
       "      <td>39.48</td>\n",
       "      <td>29.20</td>\n",
       "      <td>1/1/17</td>\n",
       "      <td>3:00</td>\n",
       "      <td>0.0</td>\n",
       "      <td>FQ</td>\n",
       "    </tr>\n",
       "  </tbody>\n",
       "</table>\n",
       "</div>"
      ],
      "text/plain": [
       "      Hs  Hmax     Tz     Tp  Peak Direction    SST    Date  Time  \\\n",
       "0  0.488  0.88  3.356  3.647           42.48  29.25  1/1/17  1:00   \n",
       "1  0.517  0.94  3.323  3.441           29.48  29.20  1/1/17  1:30   \n",
       "2  0.495  0.97  3.526  3.885           35.48  29.20  1/1/17  2:00   \n",
       "3  0.463  0.94  3.408  3.796           33.48  29.20  1/1/17  2:30   \n",
       "4  0.485  0.91  3.521  3.748           39.48  29.20  1/1/17  3:00   \n",
       "\n",
       "   Number Caught Moon Phase  \n",
       "0            0.0         FQ  \n",
       "1            0.0         FQ  \n",
       "2            0.0         FQ  \n",
       "3            0.0         FQ  \n",
       "4            0.0         FQ  "
      ]
     },
     "execution_count": 9,
     "metadata": {},
     "output_type": "execute_result"
    }
   ],
   "source": [
    "bigData = pd.merge(df, sharkData, on='Date', how='outer')\n",
    "moon = moon.dropna()\n",
    "fd = pd.merge(bigData, moon, on='Date', how='outer')\n",
    "fd = fd.drop('Date/Time', axis = 1)\n",
    "fd['Number Caught'].fillna(0, inplace = True)\n",
    "fd['Moon Phase'].fillna(0, inplace = True)\n",
    "fd = fd.dropna()\n",
    "fd.head()"
   ]
  },
  {
   "cell_type": "markdown",
   "metadata": {},
   "source": [
    "#### Removing -99.9 values that the original df dataframe used to represent empty data"
   ]
  },
  {
   "cell_type": "code",
   "execution_count": 10,
   "metadata": {
    "collapsed": true
   },
   "outputs": [],
   "source": [
    "fd = fd[fd.Hmax != -99.9]\n",
    "fd = fd[fd.Hs != -99.9]\n",
    "fd = fd[fd.Tz != -99.9]\n",
    "fd = fd[fd.Tp != -99.9]\n",
    "fd = fd[fd['Peak Direction'] != -99.9]\n",
    "fd = fd[fd.SST != -99.9]"
   ]
  },
  {
   "cell_type": "markdown",
   "metadata": {},
   "source": [
    "### Variables\n",
    "#### Date: Date in MM/DD/YYYY form\n",
    "#### Times: Beginning of the half hour interval of wave measurement\n",
    "#### Hs: Average wave height over the half hour interval\n",
    "#### Hmax: Maximum wave height per interval\n",
    "#### Tz: Average frequency of waves in seconds\n",
    "#### Tp: Wave frequency, in seconds, when waves were at there peak energy\n",
    "#### Peak Direction: Direction of the wave peak related to true north\n",
    "#### SST: Sea surface temperature in celsius\n",
    "#### Number Caught: Number of sharks caught close to the shoreline\n",
    "#### Moon Phase: Phase of the moon"
   ]
  },
  {
   "cell_type": "markdown",
   "metadata": {},
   "source": [
    "## Data Analysis"
   ]
  },
  {
   "cell_type": "markdown",
   "metadata": {},
   "source": [
    "### Basic Data Analysis"
   ]
  },
  {
   "cell_type": "markdown",
   "metadata": {},
   "source": [
    "#### Finding the maximum, minimum, and average value for all numeric variables"
   ]
  },
  {
   "cell_type": "code",
   "execution_count": 11,
   "metadata": {
    "collapsed": false
   },
   "outputs": [
    {
     "name": "stdout",
     "output_type": "stream",
     "text": [
      "1.965\n",
      "0.109\n",
      "0.6267770394133823\n"
     ]
    }
   ],
   "source": [
    "print(fd['Hs'].max())\n",
    "print(fd['Hs'].min())\n",
    "print(fd['Hs'].mean())"
   ]
  },
  {
   "cell_type": "code",
   "execution_count": 12,
   "metadata": {
    "collapsed": false
   },
   "outputs": [
    {
     "name": "stdout",
     "output_type": "stream",
     "text": [
      "3.9\n",
      "0.17\n",
      "1.1037837992667279\n"
     ]
    }
   ],
   "source": [
    "print(fd['Hmax'].max())\n",
    "print(fd['Hmax'].min())\n",
    "print(fd['Hmax'].mean())"
   ]
  },
  {
   "cell_type": "code",
   "execution_count": 13,
   "metadata": {
    "collapsed": false
   },
   "outputs": [
    {
     "name": "stdout",
     "output_type": "stream",
     "text": [
      "6.085\n",
      "2.265\n",
      "3.587335071035747\n"
     ]
    }
   ],
   "source": [
    "print(fd['Tz'].max())\n",
    "print(fd['Tz'].min())\n",
    "print(fd['Tz'].mean())"
   ]
  },
  {
   "cell_type": "code",
   "execution_count": 14,
   "metadata": {
    "collapsed": false
   },
   "outputs": [
    {
     "name": "stdout",
     "output_type": "stream",
     "text": [
      "13.077\n",
      "1.67\n",
      "4.849952509165902\n"
     ]
    }
   ],
   "source": [
    "print(fd['Tp'].max())\n",
    "print(fd['Tp'].min())\n",
    "print(fd['Tp'].mean())"
   ]
  },
  {
   "cell_type": "code",
   "execution_count": 15,
   "metadata": {
    "collapsed": false
   },
   "outputs": [
    {
     "name": "stdout",
     "output_type": "stream",
     "text": [
      "358.48\n",
      "0.46\n",
      "87.33056255728691\n"
     ]
    }
   ],
   "source": [
    "print(fd['Peak Direction'].max())\n",
    "print(fd['Peak Direction'].min())\n",
    "print(fd['Peak Direction'].mean())"
   ]
  },
  {
   "cell_type": "code",
   "execution_count": 16,
   "metadata": {
    "collapsed": false
   },
   "outputs": [
    {
     "name": "stdout",
     "output_type": "stream",
     "text": [
      "32.25\n",
      "21.2\n",
      "26.383925297891842\n"
     ]
    }
   ],
   "source": [
    "print(fd['SST'].max())\n",
    "print(fd['SST'].min())\n",
    "print(fd['SST'].mean())"
   ]
  },
  {
   "cell_type": "code",
   "execution_count": 17,
   "metadata": {
    "collapsed": false
   },
   "outputs": [
    {
     "name": "stdout",
     "output_type": "stream",
     "text": [
      "3.0\n",
      "0.0\n",
      "0.29502749770852427\n"
     ]
    }
   ],
   "source": [
    "print(fd['Number Caught'].max())\n",
    "print(fd['Number Caught'].min())\n",
    "print(fd['Number Caught'].mean())"
   ]
  },
  {
   "cell_type": "markdown",
   "metadata": {},
   "source": [
    "#### How often are waves dangerous? (Waves over 2.5 meters are considered rough)"
   ]
  },
  {
   "cell_type": "code",
   "execution_count": 18,
   "metadata": {
    "collapsed": false
   },
   "outputs": [
    {
     "name": "stdout",
     "output_type": "stream",
     "text": [
      "(308, 10)\n",
      "(17456, 10)\n"
     ]
    },
    {
     "data": {
      "text/plain": [
       "1.7643352236925016"
      ]
     },
     "execution_count": 18,
     "metadata": {},
     "output_type": "execute_result"
    }
   ],
   "source": [
    "print(fd[(fd['Hmax'] > 2.49)].shape)\n",
    "print(fd.shape)\n",
    "308/17457*100"
   ]
  },
  {
   "cell_type": "markdown",
   "metadata": {},
   "source": [
    "Waves are dangerous roughly 1.76% of the time"
   ]
  },
  {
   "cell_type": "markdown",
   "metadata": {},
   "source": [
    "#### How often are sharks near the shoreline?"
   ]
  },
  {
   "cell_type": "code",
   "execution_count": 19,
   "metadata": {
    "collapsed": false
   },
   "outputs": [
    {
     "name": "stdout",
     "output_type": "stream",
     "text": [
      "(3573, 10)\n"
     ]
    },
    {
     "data": {
      "text/plain": [
       "20.474335472043997"
      ]
     },
     "execution_count": 19,
     "metadata": {},
     "output_type": "execute_result"
    }
   ],
   "source": [
    "print(fd[(fd['Number Caught'] > 0)].shape)\n",
    "3574/17456*100"
   ]
  },
  {
   "cell_type": "markdown",
   "metadata": {
    "collapsed": true
   },
   "source": [
    "Sharks are near the shoreline about 20% of the time"
   ]
  },
  {
   "cell_type": "markdown",
   "metadata": {},
   "source": [
    "### Data Analysis via Graphing"
   ]
  },
  {
   "cell_type": "markdown",
   "metadata": {
    "collapsed": true
   },
   "source": [
    "#### Using scatter plots to look for relationships between variables. First plotting average wave height vs. max wave height"
   ]
  },
  {
   "cell_type": "code",
   "execution_count": 20,
   "metadata": {
    "collapsed": false
   },
   "outputs": [
    {
     "name": "stdout",
     "output_type": "stream",
     "text": [
      "(0.9806692548471363, 0.0)\n"
     ]
    },
    {
     "data": {
      "image/png": "[encoded data removed]",
      "text/plain": [
       "<Figure size 600x400 with 1 Axes>"
      ]
     },
     "metadata": {},
     "output_type": "display_data"
    }
   ],
   "source": [
    "plt.scatter(fd['Hs'], fd['Hmax'])\n",
    "corr = pearsonr(fd['Hs'], fd['Hmax'])\n",
    "print(corr)"
   ]
  },
  {
   "cell_type": "markdown",
   "metadata": {},
   "source": [
    "Relationship between the variables is very strong with a correlation coefficient of 0.98"
   ]
  },
  {
   "cell_type": "markdown",
   "metadata": {},
   "source": [
    "#### Plotting peak energy wave frequency vs. max wave height"
   ]
  },
  {
   "cell_type": "code",
   "execution_count": 43,
   "metadata": {
    "collapsed": false
   },
   "outputs": [
    {
     "name": "stdout",
     "output_type": "stream",
     "text": [
      "(0.21952941295961095, 1.7161528397617126e-189)\n"
     ]
    },
    {
     "data": {
      "image/png": "[encoded data removed]",
      "text/plain": [
       "<Figure size 600x400 with 1 Axes>"
      ]
     },
     "metadata": {},
     "output_type": "display_data"
    }
   ],
   "source": [
    "plt.scatter(fd['Tp'], fd['Hmax'])\n",
    "corr = pearsonr(fd['Tp'], fd['Hmax'])\n",
    "print(corr)"
   ]
  },
  {
   "cell_type": "markdown",
   "metadata": {},
   "source": [
    "Relationship between the variables exists, but is weak with correlation coefficient of 0.22"
   ]
  },
  {
   "cell_type": "markdown",
   "metadata": {},
   "source": [
    "#### Plotting average wave frequency vs. max wave height"
   ]
  },
  {
   "cell_type": "code",
   "execution_count": 22,
   "metadata": {
    "collapsed": false
   },
   "outputs": [
    {
     "name": "stdout",
     "output_type": "stream",
     "text": [
      "(0.5979546361959244, 0.0)\n"
     ]
    },
    {
     "data": {
      "image/png": "[encoded data removed]",
      "text/plain": [
       "<Figure size 600x400 with 1 Axes>"
      ]
     },
     "metadata": {},
     "output_type": "display_data"
    }
   ],
   "source": [
    "plt.scatter(fd['Tz'], fd['Hmax'])\n",
    "corr = pearsonr(fd['Tz'], fd['Hmax'])\n",
    "print(corr)"
   ]
  },
  {
   "cell_type": "markdown",
   "metadata": {},
   "source": [
    "Relationship between the two variables is pretty strong with a correlation coefficient of 0.59"
   ]
  },
  {
   "cell_type": "markdown",
   "metadata": {},
   "source": [
    "#### Plotting sea surface temperature vs max wave height"
   ]
  },
  {
   "cell_type": "code",
   "execution_count": 23,
   "metadata": {
    "collapsed": false
   },
   "outputs": [
    {
     "name": "stdout",
     "output_type": "stream",
     "text": [
      "(-0.049695980452769864, 5.0491508945996496e-11)\n"
     ]
    },
    {
     "data": {
      "image/png": "[encoded data removed]",
      "text/plain": [
       "<Figure size 600x400 with 1 Axes>"
      ]
     },
     "metadata": {},
     "output_type": "display_data"
    }
   ],
   "source": [
    "plt.scatter(fd['SST'], fd['Hmax'])\n",
    "corr = pearsonr(fd['SST'], fd['Hmax'])\n",
    "print(corr)"
   ]
  },
  {
   "cell_type": "markdown",
   "metadata": {},
   "source": [
    "Relationship between the two variables is very weak with a correlation coefficient of practically zero"
   ]
  },
  {
   "cell_type": "markdown",
   "metadata": {},
   "source": [
    "#### Plotting peak direction vs. max wave height"
   ]
  },
  {
   "cell_type": "code",
   "execution_count": 24,
   "metadata": {
    "collapsed": false
   },
   "outputs": [
    {
     "name": "stdout",
     "output_type": "stream",
     "text": [
      "(0.19813974010703359, 4.868527548294022e-154)\n"
     ]
    },
    {
     "data": {
      "image/png": "[encoded data removed]",
      "text/plain": [
       "<Figure size 600x400 with 1 Axes>"
      ]
     },
     "metadata": {},
     "output_type": "display_data"
    }
   ],
   "source": [
    "plt.scatter(fd['Peak Direction'], fd['Hmax'])\n",
    "corr = pearsonr(fd['Peak Direction'], fd['Hmax'])\n",
    "print(corr)"
   ]
  },
  {
   "cell_type": "markdown",
   "metadata": {},
   "source": [
    "Relationship looks very weak, but is actually fairly decent with a correlation coefficient of 0.20"
   ]
  },
  {
   "cell_type": "markdown",
   "metadata": {},
   "source": [
    "#### Graphing sharks near the shoreline by month"
   ]
  },
  {
   "cell_type": "code",
   "execution_count": 25,
   "metadata": {
    "collapsed": false
   },
   "outputs": [
    {
     "data": {
      "image/png": "[encoded data removed]",
      "text/plain": [
       "<Figure size 600x400 with 1 Axes>"
      ]
     },
     "metadata": {},
     "output_type": "display_data"
    }
   ],
   "source": [
    "sharkData['Date'] = pd.to_datetime(sharkData['Date']) \n",
    "ShMon = sharkData.groupby(sharkData['Date'].dt.strftime('%B'))['Number Caught'].sum()\n",
    "months = ['January', 'February', 'March', 'April', 'May', 'June', 'July', 'August', 'September', 'October', 'November', 'December']\n",
    "ShMon = ShMon.reindex(months)\n",
    "p1 = ShMon.plot(kind='bar', title='Sharks caught near the shoreline by month', yticks=[3, 6, 9, 12, 15])"
   ]
  },
  {
   "cell_type": "markdown",
   "metadata": {},
   "source": [
    "Sharks near the shoreline appear to be very randomized. Although there is a clear drop off of those caught between June and September. The sharks caught also seem to be consistently higher between October and January. Between February and May is where we see the biggest variation in sharks caught near the shore. "
   ]
  },
  {
   "cell_type": "markdown",
   "metadata": {
    "collapsed": true
   },
   "source": [
    "#### Graphing periods of dangerous waves by month"
   ]
  },
  {
   "cell_type": "code",
   "execution_count": 26,
   "metadata": {
    "collapsed": false
   },
   "outputs": [
    {
     "name": "stderr",
     "output_type": "stream",
     "text": [
      "/usr/local/lib/python3.4/dist-packages/ipykernel/__main__.py:2: SettingWithCopyWarning: \n",
      "A value is trying to be set on a copy of a slice from a DataFrame.\n",
      "Try using .loc[row_indexer,col_indexer] = value instead\n",
      "\n",
      "See the caveats in the documentation: http://pandas.pydata.org/pandas-docs/stable/indexing.html#indexing-view-versus-copy\n",
      "  from ipykernel import kernelapp as app\n",
      "/usr/local/lib/python3.4/dist-packages/ipykernel/__main__.py:3: SettingWithCopyWarning: \n",
      "A value is trying to be set on a copy of a slice from a DataFrame.\n",
      "Try using .loc[row_indexer,col_indexer] = value instead\n",
      "\n",
      "See the caveats in the documentation: http://pandas.pydata.org/pandas-docs/stable/indexing.html#indexing-view-versus-copy\n",
      "  app.launch_new_instance()\n"
     ]
    }
   ],
   "source": [
    "danger = fd[(fd['Hmax'] > 2.49)]\n",
    "danger['Date'] = pd.to_datetime(danger['Date']) \n",
    "danger['Count'] = 1\n",
    "danger1 = danger[['Date', 'Count']]\n",
    "danger2 = danger1.groupby('Date').count()\n",
    "danger2['Date'] = danger2.index\n",
    "DanMon = danger2.groupby(danger2['Date'].dt.strftime('%B'))['Count'].sum()\n",
    "DanMon = DanMon.reindex(months)\n"
   ]
  },
  {
   "cell_type": "code",
   "execution_count": 27,
   "metadata": {
    "collapsed": false
   },
   "outputs": [
    {
     "data": {
      "image/png": "[encoded data removed]",
      "text/plain": [
       "<Figure size 600x400 with 1 Axes>"
      ]
     },
     "metadata": {},
     "output_type": "display_data"
    }
   ],
   "source": [
    "p1 = DanMon.plot(kind='bar', title='Periods of dangerous waves by month', yticks=[10, 20, 30, 40, 50, 60, 70, 80, 90, 100, 110])"
   ]
  },
  {
   "cell_type": "markdown",
   "metadata": {},
   "source": [
    "The dangerous waves were definetly prevalent during the first few months of the year, as they were fairly consistent between January and May. Between June and September the waves were fairly calm. Then the dangerous periods increased during October before seeing a massive spike in November. "
   ]
  },
  {
   "cell_type": "markdown",
   "metadata": {},
   "source": [
    "#### To better understand this data I need to look at the individual month data. Before this can be done the Date column needs to be broken down further into month. "
   ]
  },
  {
   "cell_type": "code",
   "execution_count": 28,
   "metadata": {
    "collapsed": false
   },
   "outputs": [
    {
     "data": {
      "text/html": [
       "<div>\n",
       "<style scoped>\n",
       "    .dataframe tbody tr th:only-of-type {\n",
       "        vertical-align: middle;\n",
       "    }\n",
       "\n",
       "    .dataframe tbody tr th {\n",
       "        vertical-align: top;\n",
       "    }\n",
       "\n",
       "    .dataframe thead th {\n",
       "        text-align: right;\n",
       "    }\n",
       "</style>\n",
       "<table border=\"1\" class=\"dataframe\">\n",
       "  <thead>\n",
       "    <tr style=\"text-align: right;\">\n",
       "      <th></th>\n",
       "      <th>Hs</th>\n",
       "      <th>Hmax</th>\n",
       "      <th>Tz</th>\n",
       "      <th>Tp</th>\n",
       "      <th>Peak Direction</th>\n",
       "      <th>SST</th>\n",
       "      <th>Date</th>\n",
       "      <th>Time</th>\n",
       "      <th>Number Caught</th>\n",
       "      <th>Moon Phase</th>\n",
       "      <th>month</th>\n",
       "      <th>day</th>\n",
       "    </tr>\n",
       "  </thead>\n",
       "  <tbody>\n",
       "    <tr>\n",
       "      <th>0</th>\n",
       "      <td>0.488</td>\n",
       "      <td>0.88</td>\n",
       "      <td>3.356</td>\n",
       "      <td>3.647</td>\n",
       "      <td>42.48</td>\n",
       "      <td>29.25</td>\n",
       "      <td>2017-01-01</td>\n",
       "      <td>1:00</td>\n",
       "      <td>0.0</td>\n",
       "      <td>FQ</td>\n",
       "      <td>1</td>\n",
       "      <td>1</td>\n",
       "    </tr>\n",
       "    <tr>\n",
       "      <th>1</th>\n",
       "      <td>0.517</td>\n",
       "      <td>0.94</td>\n",
       "      <td>3.323</td>\n",
       "      <td>3.441</td>\n",
       "      <td>29.48</td>\n",
       "      <td>29.20</td>\n",
       "      <td>2017-01-01</td>\n",
       "      <td>1:30</td>\n",
       "      <td>0.0</td>\n",
       "      <td>FQ</td>\n",
       "      <td>1</td>\n",
       "      <td>1</td>\n",
       "    </tr>\n",
       "    <tr>\n",
       "      <th>2</th>\n",
       "      <td>0.495</td>\n",
       "      <td>0.97</td>\n",
       "      <td>3.526</td>\n",
       "      <td>3.885</td>\n",
       "      <td>35.48</td>\n",
       "      <td>29.20</td>\n",
       "      <td>2017-01-01</td>\n",
       "      <td>2:00</td>\n",
       "      <td>0.0</td>\n",
       "      <td>FQ</td>\n",
       "      <td>1</td>\n",
       "      <td>1</td>\n",
       "    </tr>\n",
       "    <tr>\n",
       "      <th>3</th>\n",
       "      <td>0.463</td>\n",
       "      <td>0.94</td>\n",
       "      <td>3.408</td>\n",
       "      <td>3.796</td>\n",
       "      <td>33.48</td>\n",
       "      <td>29.20</td>\n",
       "      <td>2017-01-01</td>\n",
       "      <td>2:30</td>\n",
       "      <td>0.0</td>\n",
       "      <td>FQ</td>\n",
       "      <td>1</td>\n",
       "      <td>1</td>\n",
       "    </tr>\n",
       "    <tr>\n",
       "      <th>4</th>\n",
       "      <td>0.485</td>\n",
       "      <td>0.91</td>\n",
       "      <td>3.521</td>\n",
       "      <td>3.748</td>\n",
       "      <td>39.48</td>\n",
       "      <td>29.20</td>\n",
       "      <td>2017-01-01</td>\n",
       "      <td>3:00</td>\n",
       "      <td>0.0</td>\n",
       "      <td>FQ</td>\n",
       "      <td>1</td>\n",
       "      <td>1</td>\n",
       "    </tr>\n",
       "  </tbody>\n",
       "</table>\n",
       "</div>"
      ],
      "text/plain": [
       "      Hs  Hmax     Tz     Tp  Peak Direction    SST       Date  Time  \\\n",
       "0  0.488  0.88  3.356  3.647           42.48  29.25 2017-01-01  1:00   \n",
       "1  0.517  0.94  3.323  3.441           29.48  29.20 2017-01-01  1:30   \n",
       "2  0.495  0.97  3.526  3.885           35.48  29.20 2017-01-01  2:00   \n",
       "3  0.463  0.94  3.408  3.796           33.48  29.20 2017-01-01  2:30   \n",
       "4  0.485  0.91  3.521  3.748           39.48  29.20 2017-01-01  3:00   \n",
       "\n",
       "   Number Caught Moon Phase  month  day  \n",
       "0            0.0         FQ      1    1  \n",
       "1            0.0         FQ      1    1  \n",
       "2            0.0         FQ      1    1  \n",
       "3            0.0         FQ      1    1  \n",
       "4            0.0         FQ      1    1  "
      ]
     },
     "execution_count": 28,
     "metadata": {},
     "output_type": "execute_result"
    }
   ],
   "source": [
    "fd['Date'] = pd.to_datetime(fd['Date'])      \n",
    "fd['month'] = fd['Date'].dt.month\n",
    "fd['day'] = fd['Date'].dt.day\n",
    "fd.head()"
   ]
  },
  {
   "cell_type": "markdown",
   "metadata": {},
   "source": [
    "#### Now lets look graph the November dangerous waves to see why it is such an outlier"
   ]
  },
  {
   "cell_type": "code",
   "execution_count": 29,
   "metadata": {
    "collapsed": false
   },
   "outputs": [
    {
     "data": {
      "text/html": [
       "<div>\n",
       "<style scoped>\n",
       "    .dataframe tbody tr th:only-of-type {\n",
       "        vertical-align: middle;\n",
       "    }\n",
       "\n",
       "    .dataframe tbody tr th {\n",
       "        vertical-align: top;\n",
       "    }\n",
       "\n",
       "    .dataframe thead th {\n",
       "        text-align: right;\n",
       "    }\n",
       "</style>\n",
       "<table border=\"1\" class=\"dataframe\">\n",
       "  <thead>\n",
       "    <tr style=\"text-align: right;\">\n",
       "      <th></th>\n",
       "      <th>Hs</th>\n",
       "      <th>Hmax</th>\n",
       "      <th>Tz</th>\n",
       "      <th>Tp</th>\n",
       "      <th>Peak Direction</th>\n",
       "      <th>SST</th>\n",
       "      <th>Date</th>\n",
       "      <th>Time</th>\n",
       "      <th>Number Caught</th>\n",
       "      <th>Moon Phase</th>\n",
       "      <th>month</th>\n",
       "      <th>day</th>\n",
       "    </tr>\n",
       "  </thead>\n",
       "  <tbody>\n",
       "    <tr>\n",
       "      <th>14592</th>\n",
       "      <td>0.398</td>\n",
       "      <td>0.81</td>\n",
       "      <td>3.181</td>\n",
       "      <td>3.493</td>\n",
       "      <td>14.46</td>\n",
       "      <td>27.60</td>\n",
       "      <td>2017-11-01</td>\n",
       "      <td>1:00</td>\n",
       "      <td>0.0</td>\n",
       "      <td>0</td>\n",
       "      <td>11</td>\n",
       "      <td>1</td>\n",
       "    </tr>\n",
       "    <tr>\n",
       "      <th>14593</th>\n",
       "      <td>0.388</td>\n",
       "      <td>0.71</td>\n",
       "      <td>3.141</td>\n",
       "      <td>3.538</td>\n",
       "      <td>15.46</td>\n",
       "      <td>27.55</td>\n",
       "      <td>2017-11-01</td>\n",
       "      <td>1:30</td>\n",
       "      <td>0.0</td>\n",
       "      <td>0</td>\n",
       "      <td>11</td>\n",
       "      <td>1</td>\n",
       "    </tr>\n",
       "    <tr>\n",
       "      <th>14594</th>\n",
       "      <td>0.393</td>\n",
       "      <td>0.65</td>\n",
       "      <td>3.134</td>\n",
       "      <td>3.594</td>\n",
       "      <td>23.46</td>\n",
       "      <td>27.55</td>\n",
       "      <td>2017-11-01</td>\n",
       "      <td>2:00</td>\n",
       "      <td>0.0</td>\n",
       "      <td>0</td>\n",
       "      <td>11</td>\n",
       "      <td>1</td>\n",
       "    </tr>\n",
       "    <tr>\n",
       "      <th>14595</th>\n",
       "      <td>0.375</td>\n",
       "      <td>0.60</td>\n",
       "      <td>3.187</td>\n",
       "      <td>3.543</td>\n",
       "      <td>28.46</td>\n",
       "      <td>27.50</td>\n",
       "      <td>2017-11-01</td>\n",
       "      <td>2:30</td>\n",
       "      <td>0.0</td>\n",
       "      <td>0</td>\n",
       "      <td>11</td>\n",
       "      <td>1</td>\n",
       "    </tr>\n",
       "    <tr>\n",
       "      <th>14596</th>\n",
       "      <td>0.377</td>\n",
       "      <td>0.79</td>\n",
       "      <td>3.116</td>\n",
       "      <td>3.243</td>\n",
       "      <td>26.46</td>\n",
       "      <td>27.50</td>\n",
       "      <td>2017-11-01</td>\n",
       "      <td>3:00</td>\n",
       "      <td>0.0</td>\n",
       "      <td>0</td>\n",
       "      <td>11</td>\n",
       "      <td>1</td>\n",
       "    </tr>\n",
       "  </tbody>\n",
       "</table>\n",
       "</div>"
      ],
      "text/plain": [
       "          Hs  Hmax     Tz     Tp  Peak Direction    SST       Date  Time  \\\n",
       "14592  0.398  0.81  3.181  3.493           14.46  27.60 2017-11-01  1:00   \n",
       "14593  0.388  0.71  3.141  3.538           15.46  27.55 2017-11-01  1:30   \n",
       "14594  0.393  0.65  3.134  3.594           23.46  27.55 2017-11-01  2:00   \n",
       "14595  0.375  0.60  3.187  3.543           28.46  27.50 2017-11-01  2:30   \n",
       "14596  0.377  0.79  3.116  3.243           26.46  27.50 2017-11-01  3:00   \n",
       "\n",
       "       Number Caught Moon Phase  month  day  \n",
       "14592            0.0          0     11    1  \n",
       "14593            0.0          0     11    1  \n",
       "14594            0.0          0     11    1  \n",
       "14595            0.0          0     11    1  \n",
       "14596            0.0          0     11    1  "
      ]
     },
     "execution_count": 29,
     "metadata": {},
     "output_type": "execute_result"
    }
   ],
   "source": [
    "November = fd[fd['month']==11]\n",
    "November.head()"
   ]
  },
  {
   "cell_type": "code",
   "execution_count": 35,
   "metadata": {
    "collapsed": true
   },
   "outputs": [
    {
     "name": "stderr",
     "output_type": "stream",
     "text": [
      "/usr/local/lib/python3.4/dist-packages/ipykernel/__main__.py:1: SettingWithCopyWarning: \n",
      "A value is trying to be set on a copy of a slice from a DataFrame.\n",
      "Try using .loc[row_indexer,col_indexer] = value instead\n",
      "\n",
      "See the caveats in the documentation: http://pandas.pydata.org/pandas-docs/stable/indexing.html#indexing-view-versus-copy\n",
      "  if __name__ == '__main__':\n"
     ]
    }
   ],
   "source": [
    "November['Count'] = np.where(November['Hmax']>2.49, 1, 0)\n",
    "danger = November[['day', 'Count']]\n",
    "NovDan = danger.groupby('day').agg({'Count': ['sum']})"
   ]
  },
  {
   "cell_type": "code",
   "execution_count": 36,
   "metadata": {
    "collapsed": false
   },
   "outputs": [
    {
     "data": {
      "image/png": "[encoded data removed]",
      "text/plain": [
       "<Figure size 600x400 with 1 Axes>"
      ]
     },
     "metadata": {},
     "output_type": "display_data"
    }
   ],
   "source": [
    "p1 = NovDan.plot(kind='bar', title='Periods of dangerous waves in November by day', yticks=[5, 10, 15, 20, 25, 30, 35, 40])"
   ]
  },
  {
   "cell_type": "markdown",
   "metadata": {
    "collapsed": true
   },
   "source": [
    "We can see by looking at the graph that there was a massive spike in dangerous wave activity between the 9th and 13th of November. This could possibly be contributed to a large storm or some other phenomena. "
   ]
  },
  {
   "cell_type": "markdown",
   "metadata": {},
   "source": [
    "#### Lets look at the data just from the days of the dangerous waves spike and compare it to the data from the entire year to see if any trends present themselves."
   ]
  },
  {
   "cell_type": "markdown",
   "metadata": {},
   "source": [
    "storm = November[November['day'].isin([9, 10, 11, 12, 13])]"
   ]
  },
  {
   "cell_type": "markdown",
   "metadata": {},
   "source": [
    "#### Comparing storm data to overall data via scatterplots"
   ]
  },
  {
   "cell_type": "code",
   "execution_count": 46,
   "metadata": {
    "collapsed": false
   },
   "outputs": [
    {
     "data": {
      "text/plain": [
       "<matplotlib.collections.PathCollection at 0x7f09b7074f60>"
      ]
     },
     "execution_count": 46,
     "metadata": {},
     "output_type": "execute_result"
    },
    {
     "data": {
      "image/png": "[encoded data removed]",
      "text/plain": [
       "<Figure size 600x400 with 1 Axes>"
      ]
     },
     "metadata": {},
     "output_type": "display_data"
    }
   ],
   "source": [
    "plt.scatter(fd['Tp'], fd['Tz'])\n",
    "plt.scatter(storm['Tp'], storm['Tz'], color = \"yellow\")"
   ]
  },
  {
   "cell_type": "markdown",
   "metadata": {},
   "source": [
    "When looking at average wave frequency and peak energy wave frequency of the storm data, it is obvious that the storm data is clustered in a very specific area of the overall data. During the storm days, the peak energy wave frequency was consistently between 4 and 8 seconds, while the average wave frequency was between 3.5 and 5 seconds"
   ]
  },
  {
   "cell_type": "code",
   "execution_count": 47,
   "metadata": {
    "collapsed": false
   },
   "outputs": [
    {
     "data": {
      "text/plain": [
       "<matplotlib.collections.PathCollection at 0x7f09b70340b8>"
      ]
     },
     "execution_count": 47,
     "metadata": {},
     "output_type": "execute_result"
    },
    {
     "data": {
      "image/png": "[encoded data removed]",
      "text/plain": [
       "<Figure size 600x400 with 1 Axes>"
      ]
     },
     "metadata": {},
     "output_type": "display_data"
    }
   ],
   "source": [
    "plt.scatter(fd['SST'], fd['Peak Direction'])\n",
    "plt.scatter(storm['SST'], storm['Peak Direction'], color = \"yellow\")"
   ]
  },
  {
   "cell_type": "markdown",
   "metadata": {},
   "source": [
    "When looking at the sea surface temperature and the peak direction of the storm data, the data is again clustered in a specific area of the overall data. During the storm days the sea surface temperature was between 26 and 28 degrees celsius (It should be noted that sea surface temperature does not change quickly, so this may mean nothing), while peak direction was always between 75 and 100 degrees related to true north. "
   ]
  },
  {
   "cell_type": "code",
   "execution_count": null,
   "metadata": {
    "collapsed": true
   },
   "outputs": [],
   "source": []
  }
 ],
 "metadata": {
  "kernelspec": {
   "display_name": "Python 3",
   "language": "python",
   "name": "python3"
  },
  "language_info": {
   "codemirror_mode": {
    "name": "ipython",
    "version": 3
   },
   "file_extension": ".py",
   "mimetype": "text/x-python",
   "name": "python",
   "nbconvert_exporter": "python",
   "pygments_lexer": "ipython3",
   "version": "3.4.3"
  }
 },
 "nbformat": 4,
 "nbformat_minor": 0
}
