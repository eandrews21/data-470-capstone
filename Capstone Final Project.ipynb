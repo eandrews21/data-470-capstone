{
 "cells": [
  {
   "cell_type": "markdown",
   "metadata": {
    "collapsed": true
   },
   "source": [
    "# Background Section\n",
    "\n",
    "### Using Oceanic Wave Data and Moon Phases to Predict Ocean Patterns and Animal Activity\n",
    "\n",
    "   Weather patterns are some of the most unpredictable phenomena on the planet. Despite all the innovations of the past 200 years, it still seems as though predicting the weather on a day to day basis is simply a guessing game. Even the best and brightest meteorologists frequently make mistakes with their predictions. However, that does not stop them from continually trying to improve. Whether it be new technology and refining existing tools, humanity is always attempting to move further towards perfection.\n",
    "    \n",
    "   This attempt to better predict weather patterns corresponds with attempting to better understand oceanic patterns as well. After all, with the amount of international trade that takes place via ships, in addition to the millions of tourists that take beach vacations every year and do not wish to be disturbed by shallow swimming sharks, understanding oceanic patterns and how they affect sea life is an important endeavor. \n",
    "    \n",
    "   With that being said, this project seeks to answer multiple questions about ocean patterns using wave data collected by buoys off of the coast of Queensland, Australia. The first problem that this dataset will be used for is finding relationships between the wave dataset variables. More specifically, can one variable or a combination of a few variables be used to accurately predict another one? The dataset has seven unique variables: date, time, average wave height, maximum wave height, average wave energy, wave frequency, wave peak direction, and sea surface temperature. The most important of these variables will be average and maximum wave height. Since greater wave height is generally associated with dangerous ocean conditions, being able to predict when waves were going to be at their largest would have positive real-world applications. Therefore, can sea surface temperature, date, time, wave peak direction, and wave energy by used to accurately and reliably predict average and maximum wave heights?\n",
    "    \n",
    "   Another problem that this project seeks to address is finding the correspondence, if one exists, between moon phases and oceanic patterns. It is generally known that the moon has an effect on wave patterns due to its gravitational pull on earth. However, the extent of this effect is worth looking into. Thus, this project seeks to examine whether moon phases can accurately and reliably predict any of the wave specific variable (average height, max height, peak direction, average energy, and frequency) in the wave dataset? \n",
    "    \n",
    "   Finally, this project will look at the problem of predicting animal (specifically sharks) activity along coastlines. Using data gathered via protective netting around portions of the Queensland coastline, it is possible to determine when sharks got a little too close for comfort to the shoreline. Combined with the wave data date it is possible to determine the general conditions of the ocean when these sharks got too close. Based on this data, this project will ask can oceanic data be used to predict the conditions that sharks will be most likely to end up near the shoreline?\n",
    "    \n",
    "   These problems are interesting for a multitude of reasons. The most prevalent of which are the safety concerns that this data can help combat. Over one hundred people suffer from shark attacks every year. More than three thousand people drown in the ocean per year. Nearly three dozen ships disappear or are destroyed in that same time frame. These may not be the most frightening number, but they clearly show that it is feasible to improve safety when it comes to the ocean. If this project is able to track and predict ocean patterns and shark activity, it will give more data to those people with the resources to improve ocean safety. These people, most likely government officials, are the ones who would be interested in this problem. If they were able to predict when the ocean would be at its most dangerous beforehand, they could forbid ships and beachgoers alike from entering the water until it is safer. \n",
    "    \n",
    "   There are a lot of studies out there that examine some of these questions. One study looked at the relationship between sea surface temperature and wave height. After a comprehensive study of this relationship, the researchers came to the conclusion that warmer sea surface temperatures were positively correlated with greater wave heights (Markina, Studholme, and Gulev). Another study looked at the role oceanic temperature played on shark habitation trends. The conclusion that this study found was that sharks generally were most active when the water temperature was about 28 degrees Celsius (Andrzejaczek). A third study examined the relationship between the phase of the moon and the height of waves. The study came to the conclusion that waves were at their greatest height during full and new moons as compared to quarter moons (Murmson). As these studies show, there is plenty of research and data on most of these topics. However, that does not mean that researchers have even scratched the tip of the iceberg on what can be learned about oceanic patterns. It will be very interesting to see if these studies are supported by the findings of this project. This project will, hopefully, also add some new findings to the existing knowledge base that academia has compiled on this topic. \n",
    "    \n",
    "##### References\n",
    "M. Y. Markina, J. H. P. Studholme and S. K. Gulev, Ocean Wind Wave Climate Responses to Wintertime North Atlantic Atmospheric Transient Eddies and Low-Frequency Flow, Journal of Climate, 10.1175/JCLI-D-18-0595.1, 32, 17, (5619-5638), (2019).\n",
    "\n",
    "Andrzejaczek, Samantha et al. “Temperature and the vertical movements of oceanic whitetip sharks, Carcharhinus longimanus.” Scientific reports vol. 8,1 8351. 29 May. 2018, doi:10.1038/s41598-018-26485-3\n",
    "\n",
    "Murmson, Serm. \"The Effects of the Moon Phases on Ocean Tides\" sciencing.com, https://sciencing.com/effects-moon-phases-ocean-tides-8435550.html. 22 October 2019.\n"
   ]
  },
  {
   "cell_type": "markdown",
   "metadata": {},
   "source": [
    "# Data Sources\n",
    "\n",
    "   The data that will be used for analysis during this project comes from three seperate data sources. The first two data scources come from the Queensland, Australia government website. The first source (https://www.data.qld.gov.au/dataset/coastal-data-system-waves-townsville) contains all the data relating to the actual waves such as height, freqeuncy, and sea surface temperature. The second data source (https://www.data.qld.gov.au/dataset/shark-control-program-shark-catch-statistics) contains all the data relating towards sharks that were caught near the shoreline. The third data source is one that I made myself to incorperate the phase of the moon into my analysis. It only includes the date and the moon phase as its variables.\n",
    "   \n",
    "   \n",
    "#### References\n",
    "\n",
    "The State of Queensland; Agriculture and Fisheries. “Shark Control Program Shark Catch Statistics by Year - Open Data Portal: Queensland Government.” Datasets | Open Data Portal | Queensland Government, 2017, www.data.qld.gov.au/dataset/shark-control-program-shark-catch-statistics.\n",
    "\n",
    "The State of Queensland; Environment and Science. “Coastal Data System - Waves (Townsville) - Open Data Portal: Queensland Government.” Datasets | Open Data Portal | Queensland Government, 2017, www.data.qld.gov.au/dataset/coastal-data-system-waves-townsville.\n"
   ]
  },
  {
   "cell_type": "markdown",
   "metadata": {},
   "source": [
    "# Methodology"
   ]
  },
  {
   "cell_type": "markdown",
   "metadata": {},
   "source": [
    "## Data Processing"
   ]
  },
  {
   "cell_type": "code",
   "execution_count": 73,
   "metadata": {
    "collapsed": false
   },
   "outputs": [
    {
     "name": "stdout",
     "output_type": "stream",
     "text": [
      "\u001b[33mDEPRECATION: Python 3.4 support has been deprecated. pip 19.1 will be the last one supporting it. Please upgrade your Python as Python 3.4 won't be maintained after March 2019 (cf PEP 429).\u001b[0m\n",
      "Requirement already up-to-date: pip in /usr/local/lib/python3.4/dist-packages (19.1.1)\n",
      "\u001b[33mDEPRECATION: Python 3.4 support has been deprecated. pip 19.1 will be the last one supporting it. Please upgrade your Python as Python 3.4 won't be maintained after March 2019 (cf PEP 429).\u001b[0m\n",
      "Requirement already satisfied: sklearn in /usr/local/lib/python3.4/dist-packages (0.0)\n",
      "Requirement already satisfied: scikit-learn in /usr/local/lib/python3.4/dist-packages (from sklearn) (0.20.4)\n",
      "Requirement already satisfied: numpy>=1.8.2 in /usr/local/lib/python3.4/dist-packages (from scikit-learn->sklearn) (1.14.0)\n",
      "Requirement already satisfied: scipy>=0.13.3 in /usr/lib/python3/dist-packages (from scikit-learn->sklearn) (0.13.3)\n"
     ]
    }
   ],
   "source": [
    "!sudo -H pip3 install --upgrade pip\n",
    "!sudo pip install sklearn"
   ]
  },
  {
   "cell_type": "code",
   "execution_count": 74,
   "metadata": {
    "collapsed": true
   },
   "outputs": [],
   "source": [
    "import numpy as np \n",
    "import pandas as pd\n",
    "from scipy import ndimage \n",
    "from scipy.cluster import hierarchy \n",
    "from scipy.spatial import distance_matrix \n",
    "from matplotlib import pyplot as plt \n",
    "from sklearn import manifold, datasets \n",
    "from sklearn.cluster import AgglomerativeClustering \n",
    "from sklearn.datasets.samples_generator import make_blobs \n",
    "from scipy.stats import pearsonr\n",
    "import seaborn as sns\n",
    "%matplotlib inline"
   ]
  },
  {
   "cell_type": "markdown",
   "metadata": {},
   "source": [
    "#### Importing the three data tables that I will be using"
   ]
  },
  {
   "cell_type": "code",
   "execution_count": 75,
   "metadata": {
    "collapsed": false
   },
   "outputs": [],
   "source": [
    "csv_path = 'wave_data.csv'\n",
    "df = pd.read_csv(csv_path)\n",
    "csv_path1 = 'shark_data.csv'\n",
    "shark = pd.read_csv(csv_path1)\n",
    "csv_path2 = 'MoonPhases.csv'\n",
    "moon = pd.read_csv(csv_path2)"
   ]
  },
  {
   "cell_type": "code",
   "execution_count": 76,
   "metadata": {
    "collapsed": false
   },
   "outputs": [
    {
     "data": {
      "text/html": [
       "<div>\n",
       "<style scoped>\n",
       "    .dataframe tbody tr th:only-of-type {\n",
       "        vertical-align: middle;\n",
       "    }\n",
       "\n",
       "    .dataframe tbody tr th {\n",
       "        vertical-align: top;\n",
       "    }\n",
       "\n",
       "    .dataframe thead th {\n",
       "        text-align: right;\n",
       "    }\n",
       "</style>\n",
       "<table border=\"1\" class=\"dataframe\">\n",
       "  <thead>\n",
       "    <tr style=\"text-align: right;\">\n",
       "      <th></th>\n",
       "      <th>Species Name</th>\n",
       "      <th>Species Code</th>\n",
       "      <th>Date</th>\n",
       "      <th>Area</th>\n",
       "      <th>Location</th>\n",
       "      <th>Latitude</th>\n",
       "      <th>Longitude</th>\n",
       "      <th>Fate</th>\n",
       "      <th>Length (m)</th>\n",
       "      <th>Water Temp (C)</th>\n",
       "      <th>Number Caught</th>\n",
       "    </tr>\n",
       "  </thead>\n",
       "  <tbody>\n",
       "    <tr>\n",
       "      <th>0</th>\n",
       "      <td>BULL WHALER</td>\n",
       "      <td>37018021.0</td>\n",
       "      <td>8/4/17</td>\n",
       "      <td>Bribie Island</td>\n",
       "      <td>Woorim (Bribie Island)</td>\n",
       "      <td>-27.06835189</td>\n",
       "      <td>153.2113376</td>\n",
       "      <td>Dead</td>\n",
       "      <td>1.55</td>\n",
       "      <td>21.0</td>\n",
       "      <td>1</td>\n",
       "    </tr>\n",
       "    <tr>\n",
       "      <th>1</th>\n",
       "      <td>TIGER SHARK</td>\n",
       "      <td>37018022.0</td>\n",
       "      <td>8/8/17</td>\n",
       "      <td>Bribie Island</td>\n",
       "      <td>Woorim (Bribie Island)</td>\n",
       "      <td>27.06511</td>\n",
       "      <td>153.2108</td>\n",
       "      <td>Euthanised</td>\n",
       "      <td>3.55</td>\n",
       "      <td>19.0</td>\n",
       "      <td>1</td>\n",
       "    </tr>\n",
       "    <tr>\n",
       "      <th>2</th>\n",
       "      <td>BULL WHALER</td>\n",
       "      <td>37018021.0</td>\n",
       "      <td>3/3/17</td>\n",
       "      <td>Bundaberg</td>\n",
       "      <td>Neilson Park</td>\n",
       "      <td>-24.80429012</td>\n",
       "      <td>152.4641092</td>\n",
       "      <td>Dead</td>\n",
       "      <td>1.56</td>\n",
       "      <td>26.0</td>\n",
       "      <td>1</td>\n",
       "    </tr>\n",
       "    <tr>\n",
       "      <th>3</th>\n",
       "      <td>BULL WHALER</td>\n",
       "      <td>37018021.0</td>\n",
       "      <td>3/3/17</td>\n",
       "      <td>Bundaberg</td>\n",
       "      <td>Kellys Beach</td>\n",
       "      <td>-24.83788865</td>\n",
       "      <td>152.4673179</td>\n",
       "      <td>Dead</td>\n",
       "      <td>1.79</td>\n",
       "      <td>26.0</td>\n",
       "      <td>1</td>\n",
       "    </tr>\n",
       "    <tr>\n",
       "      <th>4</th>\n",
       "      <td>BULL WHALER</td>\n",
       "      <td>37018021.0</td>\n",
       "      <td>17/03/2017</td>\n",
       "      <td>Bundaberg</td>\n",
       "      <td>Neilson Park</td>\n",
       "      <td>-24.80864323</td>\n",
       "      <td>152.4327342</td>\n",
       "      <td>Dead</td>\n",
       "      <td>1.56</td>\n",
       "      <td>26.0</td>\n",
       "      <td>1</td>\n",
       "    </tr>\n",
       "  </tbody>\n",
       "</table>\n",
       "</div>"
      ],
      "text/plain": [
       "  Species Name  Species Code        Date           Area  \\\n",
       "0  BULL WHALER    37018021.0      8/4/17  Bribie Island   \n",
       "1  TIGER SHARK    37018022.0      8/8/17  Bribie Island   \n",
       "2  BULL WHALER    37018021.0      3/3/17      Bundaberg   \n",
       "3  BULL WHALER    37018021.0      3/3/17      Bundaberg   \n",
       "4  BULL WHALER    37018021.0  17/03/2017      Bundaberg   \n",
       "\n",
       "                 Location      Latitude    Longitude        Fate  Length (m)  \\\n",
       "0  Woorim (Bribie Island)  -27.06835189  153.2113376        Dead        1.55   \n",
       "1  Woorim (Bribie Island)      27.06511     153.2108  Euthanised        3.55   \n",
       "2            Neilson Park  -24.80429012  152.4641092        Dead        1.56   \n",
       "3            Kellys Beach  -24.83788865  152.4673179        Dead        1.79   \n",
       "4            Neilson Park  -24.80864323  152.4327342        Dead        1.56   \n",
       "\n",
       "   Water Temp (C)  Number Caught  \n",
       "0            21.0              1  \n",
       "1            19.0              1  \n",
       "2            26.0              1  \n",
       "3            26.0              1  \n",
       "4            26.0              1  "
      ]
     },
     "execution_count": 76,
     "metadata": {},
     "output_type": "execute_result"
    }
   ],
   "source": [
    "shark.head()"
   ]
  },
  {
   "cell_type": "markdown",
   "metadata": {},
   "source": [
    "This is the original shark dataset that I will be using to track shark activty near the shorelines"
   ]
  },
  {
   "cell_type": "code",
   "execution_count": 77,
   "metadata": {
    "collapsed": false
   },
   "outputs": [
    {
     "data": {
      "text/html": [
       "<div>\n",
       "<style scoped>\n",
       "    .dataframe tbody tr th:only-of-type {\n",
       "        vertical-align: middle;\n",
       "    }\n",
       "\n",
       "    .dataframe tbody tr th {\n",
       "        vertical-align: top;\n",
       "    }\n",
       "\n",
       "    .dataframe thead th {\n",
       "        text-align: right;\n",
       "    }\n",
       "</style>\n",
       "<table border=\"1\" class=\"dataframe\">\n",
       "  <thead>\n",
       "    <tr style=\"text-align: right;\">\n",
       "      <th></th>\n",
       "      <th>Number Caught</th>\n",
       "      <th>Date</th>\n",
       "    </tr>\n",
       "    <tr>\n",
       "      <th>Date</th>\n",
       "      <th></th>\n",
       "      <th></th>\n",
       "    </tr>\n",
       "  </thead>\n",
       "  <tbody>\n",
       "    <tr>\n",
       "      <th>1/11/17</th>\n",
       "      <td>1</td>\n",
       "      <td>1/11/17</td>\n",
       "    </tr>\n",
       "    <tr>\n",
       "      <th>1/14/17</th>\n",
       "      <td>2</td>\n",
       "      <td>1/14/17</td>\n",
       "    </tr>\n",
       "    <tr>\n",
       "      <th>1/17/17</th>\n",
       "      <td>1</td>\n",
       "      <td>1/17/17</td>\n",
       "    </tr>\n",
       "    <tr>\n",
       "      <th>1/19/17</th>\n",
       "      <td>2</td>\n",
       "      <td>1/19/17</td>\n",
       "    </tr>\n",
       "    <tr>\n",
       "      <th>1/21/17</th>\n",
       "      <td>2</td>\n",
       "      <td>1/21/17</td>\n",
       "    </tr>\n",
       "  </tbody>\n",
       "</table>\n",
       "</div>"
      ],
      "text/plain": [
       "         Number Caught     Date\n",
       "Date                           \n",
       "1/11/17              1  1/11/17\n",
       "1/14/17              2  1/14/17\n",
       "1/17/17              1  1/17/17\n",
       "1/19/17              2  1/19/17\n",
       "1/21/17              2  1/21/17"
      ]
     },
     "execution_count": 77,
     "metadata": {},
     "output_type": "execute_result"
    }
   ],
   "source": [
    "shark1 = shark[shark.Area == 'Townsville']\n",
    "shark2 = shark1[['Date', 'Number Caught']]\n",
    "sharkData = shark2.groupby('Date').count()\n",
    "sharkData['Date'] = sharkData.index\n",
    "sharkData.head()"
   ]
  },
  {
   "cell_type": "markdown",
   "metadata": {},
   "source": [
    "For the inital purposes of my research I did not need most of the data contained in the shark dataset. All I needed was the number of sharks caught near the shoreline on every day. Therefore I created a new data frame that included only these two fields"
   ]
  },
  {
   "cell_type": "code",
   "execution_count": 78,
   "metadata": {
    "collapsed": false
   },
   "outputs": [
    {
     "data": {
      "text/html": [
       "<div>\n",
       "<style scoped>\n",
       "    .dataframe tbody tr th:only-of-type {\n",
       "        vertical-align: middle;\n",
       "    }\n",
       "\n",
       "    .dataframe tbody tr th {\n",
       "        vertical-align: top;\n",
       "    }\n",
       "\n",
       "    .dataframe thead th {\n",
       "        text-align: right;\n",
       "    }\n",
       "</style>\n",
       "<table border=\"1\" class=\"dataframe\">\n",
       "  <thead>\n",
       "    <tr style=\"text-align: right;\">\n",
       "      <th></th>\n",
       "      <th>Date/Time</th>\n",
       "      <th>Hs</th>\n",
       "      <th>Hmax</th>\n",
       "      <th>Tz</th>\n",
       "      <th>Tp</th>\n",
       "      <th>Peak Direction</th>\n",
       "      <th>SST</th>\n",
       "    </tr>\n",
       "  </thead>\n",
       "  <tbody>\n",
       "    <tr>\n",
       "      <th>0</th>\n",
       "      <td>1/1/17 1:00</td>\n",
       "      <td>0.488</td>\n",
       "      <td>0.88</td>\n",
       "      <td>3.356</td>\n",
       "      <td>3.647</td>\n",
       "      <td>42.48</td>\n",
       "      <td>29.25</td>\n",
       "    </tr>\n",
       "    <tr>\n",
       "      <th>1</th>\n",
       "      <td>1/1/17 1:30</td>\n",
       "      <td>0.517</td>\n",
       "      <td>0.94</td>\n",
       "      <td>3.323</td>\n",
       "      <td>3.441</td>\n",
       "      <td>29.48</td>\n",
       "      <td>29.20</td>\n",
       "    </tr>\n",
       "    <tr>\n",
       "      <th>2</th>\n",
       "      <td>1/1/17 2:00</td>\n",
       "      <td>0.495</td>\n",
       "      <td>0.97</td>\n",
       "      <td>3.526</td>\n",
       "      <td>3.885</td>\n",
       "      <td>35.48</td>\n",
       "      <td>29.20</td>\n",
       "    </tr>\n",
       "    <tr>\n",
       "      <th>3</th>\n",
       "      <td>1/1/17 2:30</td>\n",
       "      <td>0.463</td>\n",
       "      <td>0.94</td>\n",
       "      <td>3.408</td>\n",
       "      <td>3.796</td>\n",
       "      <td>33.48</td>\n",
       "      <td>29.20</td>\n",
       "    </tr>\n",
       "    <tr>\n",
       "      <th>4</th>\n",
       "      <td>1/1/17 3:00</td>\n",
       "      <td>0.485</td>\n",
       "      <td>0.91</td>\n",
       "      <td>3.521</td>\n",
       "      <td>3.748</td>\n",
       "      <td>39.48</td>\n",
       "      <td>29.20</td>\n",
       "    </tr>\n",
       "  </tbody>\n",
       "</table>\n",
       "</div>"
      ],
      "text/plain": [
       "     Date/Time     Hs  Hmax     Tz     Tp  Peak Direction    SST\n",
       "0  1/1/17 1:00  0.488  0.88  3.356  3.647           42.48  29.25\n",
       "1  1/1/17 1:30  0.517  0.94  3.323  3.441           29.48  29.20\n",
       "2  1/1/17 2:00  0.495  0.97  3.526  3.885           35.48  29.20\n",
       "3  1/1/17 2:30  0.463  0.94  3.408  3.796           33.48  29.20\n",
       "4  1/1/17 3:00  0.485  0.91  3.521  3.748           39.48  29.20"
      ]
     },
     "execution_count": 78,
     "metadata": {},
     "output_type": "execute_result"
    }
   ],
   "source": [
    "df.head()"
   ]
  },
  {
   "cell_type": "markdown",
   "metadata": {},
   "source": [
    "This is the original data frame containing the wave data"
   ]
  },
  {
   "cell_type": "code",
   "execution_count": 79,
   "metadata": {
    "collapsed": false
   },
   "outputs": [
    {
     "data": {
      "text/html": [
       "<div>\n",
       "<style scoped>\n",
       "    .dataframe tbody tr th:only-of-type {\n",
       "        vertical-align: middle;\n",
       "    }\n",
       "\n",
       "    .dataframe tbody tr th {\n",
       "        vertical-align: top;\n",
       "    }\n",
       "\n",
       "    .dataframe thead th {\n",
       "        text-align: right;\n",
       "    }\n",
       "</style>\n",
       "<table border=\"1\" class=\"dataframe\">\n",
       "  <thead>\n",
       "    <tr style=\"text-align: right;\">\n",
       "      <th></th>\n",
       "      <th>Date/Time</th>\n",
       "      <th>Hs</th>\n",
       "      <th>Hmax</th>\n",
       "      <th>Tz</th>\n",
       "      <th>Tp</th>\n",
       "      <th>Peak Direction</th>\n",
       "      <th>SST</th>\n",
       "      <th>Date</th>\n",
       "      <th>Time</th>\n",
       "    </tr>\n",
       "  </thead>\n",
       "  <tbody>\n",
       "    <tr>\n",
       "      <th>0</th>\n",
       "      <td>1/1/17 1:00</td>\n",
       "      <td>0.488</td>\n",
       "      <td>0.88</td>\n",
       "      <td>3.356</td>\n",
       "      <td>3.647</td>\n",
       "      <td>42.48</td>\n",
       "      <td>29.25</td>\n",
       "      <td>1/1/17</td>\n",
       "      <td>1:00</td>\n",
       "    </tr>\n",
       "    <tr>\n",
       "      <th>1</th>\n",
       "      <td>1/1/17 1:30</td>\n",
       "      <td>0.517</td>\n",
       "      <td>0.94</td>\n",
       "      <td>3.323</td>\n",
       "      <td>3.441</td>\n",
       "      <td>29.48</td>\n",
       "      <td>29.20</td>\n",
       "      <td>1/1/17</td>\n",
       "      <td>1:30</td>\n",
       "    </tr>\n",
       "    <tr>\n",
       "      <th>2</th>\n",
       "      <td>1/1/17 2:00</td>\n",
       "      <td>0.495</td>\n",
       "      <td>0.97</td>\n",
       "      <td>3.526</td>\n",
       "      <td>3.885</td>\n",
       "      <td>35.48</td>\n",
       "      <td>29.20</td>\n",
       "      <td>1/1/17</td>\n",
       "      <td>2:00</td>\n",
       "    </tr>\n",
       "    <tr>\n",
       "      <th>3</th>\n",
       "      <td>1/1/17 2:30</td>\n",
       "      <td>0.463</td>\n",
       "      <td>0.94</td>\n",
       "      <td>3.408</td>\n",
       "      <td>3.796</td>\n",
       "      <td>33.48</td>\n",
       "      <td>29.20</td>\n",
       "      <td>1/1/17</td>\n",
       "      <td>2:30</td>\n",
       "    </tr>\n",
       "    <tr>\n",
       "      <th>4</th>\n",
       "      <td>1/1/17 3:00</td>\n",
       "      <td>0.485</td>\n",
       "      <td>0.91</td>\n",
       "      <td>3.521</td>\n",
       "      <td>3.748</td>\n",
       "      <td>39.48</td>\n",
       "      <td>29.20</td>\n",
       "      <td>1/1/17</td>\n",
       "      <td>3:00</td>\n",
       "    </tr>\n",
       "  </tbody>\n",
       "</table>\n",
       "</div>"
      ],
      "text/plain": [
       "     Date/Time     Hs  Hmax     Tz     Tp  Peak Direction    SST    Date  Time\n",
       "0  1/1/17 1:00  0.488  0.88  3.356  3.647           42.48  29.25  1/1/17  1:00\n",
       "1  1/1/17 1:30  0.517  0.94  3.323  3.441           29.48  29.20  1/1/17  1:30\n",
       "2  1/1/17 2:00  0.495  0.97  3.526  3.885           35.48  29.20  1/1/17  2:00\n",
       "3  1/1/17 2:30  0.463  0.94  3.408  3.796           33.48  29.20  1/1/17  2:30\n",
       "4  1/1/17 3:00  0.485  0.91  3.521  3.748           39.48  29.20  1/1/17  3:00"
      ]
     },
     "execution_count": 79,
     "metadata": {},
     "output_type": "execute_result"
    }
   ],
   "source": [
    "new = df[\"Date/Time\"].str.split(\" \", n = 1, expand = True)\n",
    "df[\"Date\"]= new[0] \n",
    "df[\"Time\"]= new[1] \n",
    "df.head()"
   ]
  },
  {
   "cell_type": "markdown",
   "metadata": {},
   "source": [
    "In order to merge the data frames properly I needed to split the Date/Time variable into seperate date and time fields so I could merge the data frames on Date.  "
   ]
  },
  {
   "cell_type": "markdown",
   "metadata": {},
   "source": [
    "#### Merging the three dataframes"
   ]
  },
  {
   "cell_type": "code",
   "execution_count": 80,
   "metadata": {
    "collapsed": false
   },
   "outputs": [
    {
     "data": {
      "text/html": [
       "<div>\n",
       "<style scoped>\n",
       "    .dataframe tbody tr th:only-of-type {\n",
       "        vertical-align: middle;\n",
       "    }\n",
       "\n",
       "    .dataframe tbody tr th {\n",
       "        vertical-align: top;\n",
       "    }\n",
       "\n",
       "    .dataframe thead th {\n",
       "        text-align: right;\n",
       "    }\n",
       "</style>\n",
       "<table border=\"1\" class=\"dataframe\">\n",
       "  <thead>\n",
       "    <tr style=\"text-align: right;\">\n",
       "      <th></th>\n",
       "      <th>Hs</th>\n",
       "      <th>Hmax</th>\n",
       "      <th>Tz</th>\n",
       "      <th>Tp</th>\n",
       "      <th>Peak Direction</th>\n",
       "      <th>SST</th>\n",
       "      <th>Date</th>\n",
       "      <th>Time</th>\n",
       "      <th>Number Caught</th>\n",
       "      <th>Moon Phase</th>\n",
       "    </tr>\n",
       "  </thead>\n",
       "  <tbody>\n",
       "    <tr>\n",
       "      <th>0</th>\n",
       "      <td>0.488</td>\n",
       "      <td>0.88</td>\n",
       "      <td>3.356</td>\n",
       "      <td>3.647</td>\n",
       "      <td>42.48</td>\n",
       "      <td>29.25</td>\n",
       "      <td>1/1/17</td>\n",
       "      <td>1:00</td>\n",
       "      <td>0.0</td>\n",
       "      <td>1.0</td>\n",
       "    </tr>\n",
       "    <tr>\n",
       "      <th>1</th>\n",
       "      <td>0.517</td>\n",
       "      <td>0.94</td>\n",
       "      <td>3.323</td>\n",
       "      <td>3.441</td>\n",
       "      <td>29.48</td>\n",
       "      <td>29.20</td>\n",
       "      <td>1/1/17</td>\n",
       "      <td>1:30</td>\n",
       "      <td>0.0</td>\n",
       "      <td>1.0</td>\n",
       "    </tr>\n",
       "    <tr>\n",
       "      <th>2</th>\n",
       "      <td>0.495</td>\n",
       "      <td>0.97</td>\n",
       "      <td>3.526</td>\n",
       "      <td>3.885</td>\n",
       "      <td>35.48</td>\n",
       "      <td>29.20</td>\n",
       "      <td>1/1/17</td>\n",
       "      <td>2:00</td>\n",
       "      <td>0.0</td>\n",
       "      <td>1.0</td>\n",
       "    </tr>\n",
       "    <tr>\n",
       "      <th>3</th>\n",
       "      <td>0.463</td>\n",
       "      <td>0.94</td>\n",
       "      <td>3.408</td>\n",
       "      <td>3.796</td>\n",
       "      <td>33.48</td>\n",
       "      <td>29.20</td>\n",
       "      <td>1/1/17</td>\n",
       "      <td>2:30</td>\n",
       "      <td>0.0</td>\n",
       "      <td>1.0</td>\n",
       "    </tr>\n",
       "    <tr>\n",
       "      <th>4</th>\n",
       "      <td>0.485</td>\n",
       "      <td>0.91</td>\n",
       "      <td>3.521</td>\n",
       "      <td>3.748</td>\n",
       "      <td>39.48</td>\n",
       "      <td>29.20</td>\n",
       "      <td>1/1/17</td>\n",
       "      <td>3:00</td>\n",
       "      <td>0.0</td>\n",
       "      <td>1.0</td>\n",
       "    </tr>\n",
       "  </tbody>\n",
       "</table>\n",
       "</div>"
      ],
      "text/plain": [
       "      Hs  Hmax     Tz     Tp  Peak Direction    SST    Date  Time  \\\n",
       "0  0.488  0.88  3.356  3.647           42.48  29.25  1/1/17  1:00   \n",
       "1  0.517  0.94  3.323  3.441           29.48  29.20  1/1/17  1:30   \n",
       "2  0.495  0.97  3.526  3.885           35.48  29.20  1/1/17  2:00   \n",
       "3  0.463  0.94  3.408  3.796           33.48  29.20  1/1/17  2:30   \n",
       "4  0.485  0.91  3.521  3.748           39.48  29.20  1/1/17  3:00   \n",
       "\n",
       "   Number Caught  Moon Phase  \n",
       "0            0.0         1.0  \n",
       "1            0.0         1.0  \n",
       "2            0.0         1.0  \n",
       "3            0.0         1.0  \n",
       "4            0.0         1.0  "
      ]
     },
     "execution_count": 80,
     "metadata": {},
     "output_type": "execute_result"
    }
   ],
   "source": [
    "bigData = pd.merge(df, sharkData, on='Date', how='outer')\n",
    "moon = moon.dropna()\n",
    "fd = pd.merge(bigData, moon, on='Date', how='outer')\n",
    "fd = fd.drop('Date/Time', axis = 1)\n",
    "fd['Number Caught'].fillna(0, inplace = True)\n",
    "fd['Moon Phase'].fillna(0, inplace = True)\n",
    "fd = fd.dropna()\n",
    "fd.head()"
   ]
  },
  {
   "cell_type": "markdown",
   "metadata": {},
   "source": [
    "This next bit of code did a couple things. First, I merged all three data frames into one. Next I dropped the Date/Time column from the data frame because It was not necessary with the two seperate columns I created. Finally, I filled all N/A data in Number Caught and Moon Phase columns with zeros, and dropped the rest of the N/A data as to not interfere with any testing"
   ]
  },
  {
   "cell_type": "markdown",
   "metadata": {},
   "source": [
    "#### Removing -99.9 values that the original df dataframe used to represent empty data"
   ]
  },
  {
   "cell_type": "code",
   "execution_count": 81,
   "metadata": {
    "collapsed": true
   },
   "outputs": [],
   "source": [
    "fd = fd[fd.Hmax != -99.9]\n",
    "fd = fd[fd.Hs != -99.9]\n",
    "fd = fd[fd.Tz != -99.9]\n",
    "fd = fd[fd.Tp != -99.9]\n",
    "fd = fd[fd['Peak Direction'] != -99.9]\n",
    "fd = fd[fd.SST != -99.9]"
   ]
  },
  {
   "cell_type": "markdown",
   "metadata": {},
   "source": [
    "In the wave dataset when there was missing data they replaced it with -99.9. Therefore I had to remove all this data as to not interfere with any analysis."
   ]
  },
  {
   "cell_type": "markdown",
   "metadata": {},
   "source": [
    "### Variables\n",
    "#### Date: Date in MM/DD/YYYY form\n",
    "#### Times: Beginning of the half hour interval of wave measurement\n",
    "#### Hs: Average wave height over the half hour interval\n",
    "#### Hmax: Maximum wave height per interval\n",
    "#### Tz: Average frequency of waves in seconds\n",
    "#### Tp: Wave frequency, in seconds, when waves were at there peak energy\n",
    "#### Peak Direction: Direction of the wave peak related to true north\n",
    "#### SST: Sea surface temperature in celsius\n",
    "#### Number Caught: Number of sharks caught close to the shoreline\n",
    "#### Moon Phase: Phase of the moon"
   ]
  },
  {
   "cell_type": "markdown",
   "metadata": {},
   "source": [
    "## Data Analysis"
   ]
  },
  {
   "cell_type": "markdown",
   "metadata": {},
   "source": [
    "### Basic Data Analysis"
   ]
  },
  {
   "cell_type": "markdown",
   "metadata": {},
   "source": [
    "#### The first method of data analysis that I did was simply looking at the maximums, minimums, and means of all major numeric variables. This is done to get a basic understanding of the data"
   ]
  },
  {
   "cell_type": "code",
   "execution_count": 82,
   "metadata": {
    "collapsed": false
   },
   "outputs": [
    {
     "name": "stdout",
     "output_type": "stream",
     "text": [
      "1.965\n",
      "0.109\n",
      "0.6267770394133823\n"
     ]
    }
   ],
   "source": [
    "print(fd['Hs'].max())\n",
    "print(fd['Hs'].min())\n",
    "print(fd['Hs'].mean())"
   ]
  },
  {
   "cell_type": "markdown",
   "metadata": {},
   "source": [
    "Max, min, and mean of the Hs variable"
   ]
  },
  {
   "cell_type": "code",
   "execution_count": 83,
   "metadata": {
    "collapsed": false
   },
   "outputs": [
    {
     "name": "stdout",
     "output_type": "stream",
     "text": [
      "3.9\n",
      "0.17\n",
      "1.1037837992667279\n"
     ]
    }
   ],
   "source": [
    "print(fd['Hmax'].max())\n",
    "print(fd['Hmax'].min())\n",
    "print(fd['Hmax'].mean())"
   ]
  },
  {
   "cell_type": "markdown",
   "metadata": {},
   "source": [
    "Max, min, and mean of the Hmax variable"
   ]
  },
  {
   "cell_type": "code",
   "execution_count": 84,
   "metadata": {
    "collapsed": false
   },
   "outputs": [
    {
     "name": "stdout",
     "output_type": "stream",
     "text": [
      "6.085\n",
      "2.265\n",
      "3.587335071035747\n"
     ]
    }
   ],
   "source": [
    "print(fd['Tz'].max())\n",
    "print(fd['Tz'].min())\n",
    "print(fd['Tz'].mean())"
   ]
  },
  {
   "cell_type": "markdown",
   "metadata": {},
   "source": [
    "Max, min, and mean of the Tz variable"
   ]
  },
  {
   "cell_type": "code",
   "execution_count": 85,
   "metadata": {
    "collapsed": false
   },
   "outputs": [
    {
     "name": "stdout",
     "output_type": "stream",
     "text": [
      "13.077\n",
      "1.67\n",
      "4.849952509165902\n"
     ]
    }
   ],
   "source": [
    "print(fd['Tp'].max())\n",
    "print(fd['Tp'].min())\n",
    "print(fd['Tp'].mean())"
   ]
  },
  {
   "cell_type": "markdown",
   "metadata": {},
   "source": [
    "Max, min, and mean of the Tp variable"
   ]
  },
  {
   "cell_type": "code",
   "execution_count": 86,
   "metadata": {
    "collapsed": false
   },
   "outputs": [
    {
     "name": "stdout",
     "output_type": "stream",
     "text": [
      "358.48\n",
      "0.46\n",
      "87.33056255728691\n"
     ]
    }
   ],
   "source": [
    "print(fd['Peak Direction'].max())\n",
    "print(fd['Peak Direction'].min())\n",
    "print(fd['Peak Direction'].mean())"
   ]
  },
  {
   "cell_type": "markdown",
   "metadata": {},
   "source": [
    "Max, min, and mean of the Peak Direction variable"
   ]
  },
  {
   "cell_type": "code",
   "execution_count": 87,
   "metadata": {
    "collapsed": false
   },
   "outputs": [
    {
     "name": "stdout",
     "output_type": "stream",
     "text": [
      "32.25\n",
      "21.2\n",
      "26.383925297891842\n"
     ]
    }
   ],
   "source": [
    "print(fd['SST'].max())\n",
    "print(fd['SST'].min())\n",
    "print(fd['SST'].mean())"
   ]
  },
  {
   "cell_type": "markdown",
   "metadata": {},
   "source": [
    "Max, min, and mean of the SST variable"
   ]
  },
  {
   "cell_type": "code",
   "execution_count": 88,
   "metadata": {
    "collapsed": false
   },
   "outputs": [
    {
     "name": "stdout",
     "output_type": "stream",
     "text": [
      "3.0\n",
      "0.0\n",
      "0.29502749770852427\n"
     ]
    }
   ],
   "source": [
    "print(fd['Number Caught'].max())\n",
    "print(fd['Number Caught'].min())\n",
    "print(fd['Number Caught'].mean())"
   ]
  },
  {
   "cell_type": "markdown",
   "metadata": {},
   "source": [
    "Max, min, and mean of the Number Caught variable"
   ]
  },
  {
   "cell_type": "markdown",
   "metadata": {},
   "source": [
    "#### Next I wanted to get some more basic information to have a better understanding of the data. I did some more simple analysis to see the percentage of time that waves are considered dangerous (Hmax > 2.49) and the percentage of time sharks are near the shoreline."
   ]
  },
  {
   "cell_type": "code",
   "execution_count": 89,
   "metadata": {
    "collapsed": false
   },
   "outputs": [
    {
     "name": "stdout",
     "output_type": "stream",
     "text": [
      "(308, 10)\n",
      "(17456, 10)\n"
     ]
    },
    {
     "data": {
      "text/plain": [
       "1.7643352236925016"
      ]
     },
     "execution_count": 89,
     "metadata": {},
     "output_type": "execute_result"
    }
   ],
   "source": [
    "print(fd[(fd['Hmax'] > 2.49)].shape)\n",
    "print(fd.shape)\n",
    "308/17457*100"
   ]
  },
  {
   "cell_type": "markdown",
   "metadata": {},
   "source": [
    "By dividing the length of a data frame containing only the dangerous waves by the length of the entire data frame, we see that waves are dangerous about 1.76% of the time. "
   ]
  },
  {
   "cell_type": "markdown",
   "metadata": {},
   "source": [
    "#### How often are sharks near the shoreline?"
   ]
  },
  {
   "cell_type": "code",
   "execution_count": 90,
   "metadata": {
    "collapsed": false
   },
   "outputs": [
    {
     "name": "stdout",
     "output_type": "stream",
     "text": [
      "(3573, 10)\n"
     ]
    },
    {
     "data": {
      "text/plain": [
       "20.474335472043997"
      ]
     },
     "execution_count": 90,
     "metadata": {},
     "output_type": "execute_result"
    }
   ],
   "source": [
    "print(fd[(fd['Number Caught'] > 0)].shape)\n",
    "3574/17456*100"
   ]
  },
  {
   "cell_type": "markdown",
   "metadata": {
    "collapsed": true
   },
   "source": [
    "By dividing the length of a data frame containing only the data from when Number Caught is greater than 0 by the length of the entire data frame, we see that sharks are near the shoreline about 20% of the time. "
   ]
  },
  {
   "cell_type": "markdown",
   "metadata": {},
   "source": [
    "### Data Analysis via Graphing"
   ]
  },
  {
   "cell_type": "markdown",
   "metadata": {
    "collapsed": true
   },
   "source": [
    "#### The next method of data analysis that I will be doing is graphing each numeric variable against Hmax. This way I can see how well each variable explains Hmax. I will also be looking at the correlation coefficient between each variable and Hmax to get a better understanding of how one explains the other. "
   ]
  },
  {
   "cell_type": "code",
   "execution_count": 91,
   "metadata": {
    "collapsed": false
   },
   "outputs": [
    {
     "name": "stdout",
     "output_type": "stream",
     "text": [
      "(0.9806692548471363, 0.0)\n"
     ]
    },
    {
     "data": {
      "image/png": "[encoded data removed]",
      "text/plain": [
       "<Figure size 600x400 with 1 Axes>"
      ]
     },
     "metadata": {},
     "output_type": "display_data"
    }
   ],
   "source": [
    "plt.scatter(fd['Hs'], fd['Hmax'])\n",
    "plt.title(\"Figure 1\")\n",
    "plt.xlabel(\"Hs (Meters)\")\n",
    "plt.ylabel(\"Hmax (Meters)\")\n",
    "corr = pearsonr(fd['Hs'], fd['Hmax'])\n",
    "print(corr)"
   ]
  },
  {
   "cell_type": "markdown",
   "metadata": {},
   "source": [
    "The graph shows a pretty strong correlation between Hs and Hmax that is backed up by a 0.98 correlation coefficient"
   ]
  },
  {
   "cell_type": "markdown",
   "metadata": {},
   "source": [
    "#### Plotting peak energy wave frequency vs. max wave height"
   ]
  },
  {
   "cell_type": "code",
   "execution_count": 92,
   "metadata": {
    "collapsed": false
   },
   "outputs": [
    {
     "name": "stdout",
     "output_type": "stream",
     "text": [
      "(0.21952941295961095, 1.7161528397617126e-189)\n"
     ]
    },
    {
     "data": {
      "image/png": "[encoded data removed]",
      "text/plain": [
       "<Figure size 600x400 with 1 Axes>"
      ]
     },
     "metadata": {},
     "output_type": "display_data"
    }
   ],
   "source": [
    "plt.scatter(fd['Tp'], fd['Hmax'])\n",
    "plt.title(\"Figure 3\")\n",
    "plt.xlabel(\"Tp (Sec)\")\n",
    "plt.ylabel(\"Hmax (Meters)\")\n",
    "corr = pearsonr(fd['Tp'], fd['Hmax'])\n",
    "print(corr)"
   ]
  },
  {
   "cell_type": "markdown",
   "metadata": {},
   "source": [
    "The graph shows a mediocre correlation between Tp and Hmax that is backed up by a 0.22 correlation coefficient"
   ]
  },
  {
   "cell_type": "markdown",
   "metadata": {},
   "source": [
    "#### Plotting average wave frequency vs. max wave height"
   ]
  },
  {
   "cell_type": "code",
   "execution_count": 93,
   "metadata": {
    "collapsed": false
   },
   "outputs": [
    {
     "name": "stdout",
     "output_type": "stream",
     "text": [
      "(0.5979546361959244, 0.0)\n"
     ]
    },
    {
     "data": {
      "image/png": "[encoded data removed]",
      "text/plain": [
       "<Figure size 600x400 with 1 Axes>"
      ]
     },
     "metadata": {},
     "output_type": "display_data"
    }
   ],
   "source": [
    "plt.scatter(fd['Tz'], fd['Hmax'])\n",
    "plt.title(\"Figure 2\")\n",
    "plt.xlabel(\"Tz (Sec)\")\n",
    "plt.ylabel(\"Hmax (Meters)\")\n",
    "corr = pearsonr(fd['Tz'], fd['Hmax'])\n",
    "print(corr)"
   ]
  },
  {
   "cell_type": "markdown",
   "metadata": {},
   "source": [
    "The graph shows a fairly strong correlation between Tz and Hmax that is backed up by a 0.59 correlation coefficient"
   ]
  },
  {
   "cell_type": "markdown",
   "metadata": {},
   "source": [
    "#### Plotting sea surface temperature vs max wave height"
   ]
  },
  {
   "cell_type": "code",
   "execution_count": 94,
   "metadata": {
    "collapsed": false
   },
   "outputs": [
    {
     "name": "stdout",
     "output_type": "stream",
     "text": [
      "(-0.049695980452769864, 5.0491508945996496e-11)\n"
     ]
    },
    {
     "data": {
      "image/png": "[encoded data removed]",
      "text/plain": [
       "<Figure size 600x400 with 1 Axes>"
      ]
     },
     "metadata": {},
     "output_type": "display_data"
    }
   ],
   "source": [
    "plt.scatter(fd['SST'], fd['Hmax'])\n",
    "plt.title(\"Figure 4\")\n",
    "plt.xlabel(\"SST (Cel)\")\n",
    "plt.ylabel(\"Hmax (Meters)\")\n",
    "corr = pearsonr(fd['SST'], fd['Hmax'])\n",
    "print(corr)"
   ]
  },
  {
   "cell_type": "markdown",
   "metadata": {},
   "source": [
    "The graph shows a nonexistent correlation between SST and Hmax that is backed up by a -0.04 correlation coefficient"
   ]
  },
  {
   "cell_type": "markdown",
   "metadata": {},
   "source": [
    "#### Plotting peak direction vs. max wave height"
   ]
  },
  {
   "cell_type": "code",
   "execution_count": 95,
   "metadata": {
    "collapsed": false
   },
   "outputs": [
    {
     "name": "stdout",
     "output_type": "stream",
     "text": [
      "(0.19813974010703359, 4.868527548294022e-154)\n"
     ]
    },
    {
     "data": {
      "image/png": "[encoded data removed]",
      "text/plain": [
       "<Figure size 600x400 with 1 Axes>"
      ]
     },
     "metadata": {},
     "output_type": "display_data"
    }
   ],
   "source": [
    "plt.scatter(fd['Peak Direction'], fd['Hmax'])\n",
    "plt.title(\"Figure 5\")\n",
    "plt.xlabel(\"Peak Direction (Degrees to True North)\")\n",
    "plt.ylabel(\"Hmax (Meters)\")\n",
    "corr = pearsonr(fd['Peak Direction'], fd['Hmax'])\n",
    "print(corr)"
   ]
  },
  {
   "cell_type": "markdown",
   "metadata": {},
   "source": [
    "The graph shows a very little correlation between Peak Direction and Hmax, however a 0.20 correlation coefficient shows that there is at least some correlation"
   ]
  },
  {
   "cell_type": "markdown",
   "metadata": {
    "collapsed": true
   },
   "source": [
    "#### The next method of data analysis I wanted to do was using a bar graph to display the number of dangerous wave patterns per month to get an understanding of how the distrubution of rough waves."
   ]
  },
  {
   "cell_type": "code",
   "execution_count": 96,
   "metadata": {
    "collapsed": false
   },
   "outputs": [
    {
     "name": "stderr",
     "output_type": "stream",
     "text": [
      "/usr/local/lib/python3.4/dist-packages/ipykernel/__main__.py:5: SettingWithCopyWarning: \n",
      "A value is trying to be set on a copy of a slice from a DataFrame.\n",
      "Try using .loc[row_indexer,col_indexer] = value instead\n",
      "\n",
      "See the caveats in the documentation: http://pandas.pydata.org/pandas-docs/stable/indexing.html#indexing-view-versus-copy\n"
     ]
    }
   ],
   "source": [
    "months = ['January', 'February', 'March', 'April', 'May', 'June', 'July', 'August', 'September'\n",
    "         , 'October', 'November', 'December']\n",
    "fd['Count'] = 1\n",
    "danger = fd[(fd['Hmax'] > 2.49)]\n",
    "danger['Date'] = pd.to_datetime(danger['Date']) \n",
    "danger1 = danger[['Date', 'Count']]\n",
    "danger2 = danger1.groupby('Date').count()\n",
    "danger2['Date'] = danger2.index\n",
    "DanMon = danger2.groupby(danger2['Date'].dt.strftime('%B'))['Count'].sum()\n",
    "DanMon = DanMon.reindex(months)"
   ]
  },
  {
   "cell_type": "markdown",
   "metadata": {},
   "source": [
    "The code above is just setting up for the data plotting. First I created a new data frame just containing the data from when waves were dangerous. Then I created a count variable equal to one to make plotting easier. Next I removed all the varables I did not need leaving just the date and count variables. Finally I grouped by date and counted the count data by date. Once I reindexed the months, the data was ready to graph. "
   ]
  },
  {
   "cell_type": "code",
   "execution_count": 97,
   "metadata": {
    "collapsed": false
   },
   "outputs": [
    {
     "data": {
      "image/png": "[encoded data removed]",
      "text/plain": [
       "<Figure size 600x400 with 1 Axes>"
      ]
     },
     "metadata": {},
     "output_type": "display_data"
    }
   ],
   "source": [
    "p1 = DanMon.plot(kind='bar', title='Figure 6. Periods of dangerous waves by month', yticks=[10, 20, 30, 40, 50, 60, 70, 80, 90, 100, 110])"
   ]
  },
  {
   "cell_type": "markdown",
   "metadata": {},
   "source": [
    "The dangerous waves were definetly prevalent during the first few months of the year, as they were fairly consistent between January and May. Between June and September the waves were fairly calm. Then the dangerous periods increased during October before seeing a massive spike in November. "
   ]
  },
  {
   "cell_type": "markdown",
   "metadata": {},
   "source": [
    "#### To continue this data analysis method I wanted to create another bargraph of the dangerous waves by day in November since November had by far the most dangerous wave periods"
   ]
  },
  {
   "cell_type": "code",
   "execution_count": 98,
   "metadata": {
    "collapsed": false
   },
   "outputs": [
    {
     "data": {
      "text/html": [
       "<div>\n",
       "<style scoped>\n",
       "    .dataframe tbody tr th:only-of-type {\n",
       "        vertical-align: middle;\n",
       "    }\n",
       "\n",
       "    .dataframe tbody tr th {\n",
       "        vertical-align: top;\n",
       "    }\n",
       "\n",
       "    .dataframe thead th {\n",
       "        text-align: right;\n",
       "    }\n",
       "</style>\n",
       "<table border=\"1\" class=\"dataframe\">\n",
       "  <thead>\n",
       "    <tr style=\"text-align: right;\">\n",
       "      <th></th>\n",
       "      <th>Hs</th>\n",
       "      <th>Hmax</th>\n",
       "      <th>Tz</th>\n",
       "      <th>Tp</th>\n",
       "      <th>Peak Direction</th>\n",
       "      <th>SST</th>\n",
       "      <th>Date</th>\n",
       "      <th>Time</th>\n",
       "      <th>Number Caught</th>\n",
       "      <th>Moon Phase</th>\n",
       "      <th>Count</th>\n",
       "      <th>month</th>\n",
       "      <th>day</th>\n",
       "    </tr>\n",
       "  </thead>\n",
       "  <tbody>\n",
       "    <tr>\n",
       "      <th>0</th>\n",
       "      <td>0.488</td>\n",
       "      <td>0.88</td>\n",
       "      <td>3.356</td>\n",
       "      <td>3.647</td>\n",
       "      <td>42.48</td>\n",
       "      <td>29.25</td>\n",
       "      <td>2017-01-01</td>\n",
       "      <td>1:00</td>\n",
       "      <td>0.0</td>\n",
       "      <td>1.0</td>\n",
       "      <td>1</td>\n",
       "      <td>1</td>\n",
       "      <td>1</td>\n",
       "    </tr>\n",
       "    <tr>\n",
       "      <th>1</th>\n",
       "      <td>0.517</td>\n",
       "      <td>0.94</td>\n",
       "      <td>3.323</td>\n",
       "      <td>3.441</td>\n",
       "      <td>29.48</td>\n",
       "      <td>29.20</td>\n",
       "      <td>2017-01-01</td>\n",
       "      <td>1:30</td>\n",
       "      <td>0.0</td>\n",
       "      <td>1.0</td>\n",
       "      <td>1</td>\n",
       "      <td>1</td>\n",
       "      <td>1</td>\n",
       "    </tr>\n",
       "    <tr>\n",
       "      <th>2</th>\n",
       "      <td>0.495</td>\n",
       "      <td>0.97</td>\n",
       "      <td>3.526</td>\n",
       "      <td>3.885</td>\n",
       "      <td>35.48</td>\n",
       "      <td>29.20</td>\n",
       "      <td>2017-01-01</td>\n",
       "      <td>2:00</td>\n",
       "      <td>0.0</td>\n",
       "      <td>1.0</td>\n",
       "      <td>1</td>\n",
       "      <td>1</td>\n",
       "      <td>1</td>\n",
       "    </tr>\n",
       "    <tr>\n",
       "      <th>3</th>\n",
       "      <td>0.463</td>\n",
       "      <td>0.94</td>\n",
       "      <td>3.408</td>\n",
       "      <td>3.796</td>\n",
       "      <td>33.48</td>\n",
       "      <td>29.20</td>\n",
       "      <td>2017-01-01</td>\n",
       "      <td>2:30</td>\n",
       "      <td>0.0</td>\n",
       "      <td>1.0</td>\n",
       "      <td>1</td>\n",
       "      <td>1</td>\n",
       "      <td>1</td>\n",
       "    </tr>\n",
       "    <tr>\n",
       "      <th>4</th>\n",
       "      <td>0.485</td>\n",
       "      <td>0.91</td>\n",
       "      <td>3.521</td>\n",
       "      <td>3.748</td>\n",
       "      <td>39.48</td>\n",
       "      <td>29.20</td>\n",
       "      <td>2017-01-01</td>\n",
       "      <td>3:00</td>\n",
       "      <td>0.0</td>\n",
       "      <td>1.0</td>\n",
       "      <td>1</td>\n",
       "      <td>1</td>\n",
       "      <td>1</td>\n",
       "    </tr>\n",
       "  </tbody>\n",
       "</table>\n",
       "</div>"
      ],
      "text/plain": [
       "      Hs  Hmax     Tz     Tp  Peak Direction    SST       Date  Time  \\\n",
       "0  0.488  0.88  3.356  3.647           42.48  29.25 2017-01-01  1:00   \n",
       "1  0.517  0.94  3.323  3.441           29.48  29.20 2017-01-01  1:30   \n",
       "2  0.495  0.97  3.526  3.885           35.48  29.20 2017-01-01  2:00   \n",
       "3  0.463  0.94  3.408  3.796           33.48  29.20 2017-01-01  2:30   \n",
       "4  0.485  0.91  3.521  3.748           39.48  29.20 2017-01-01  3:00   \n",
       "\n",
       "   Number Caught  Moon Phase  Count  month  day  \n",
       "0            0.0         1.0      1      1    1  \n",
       "1            0.0         1.0      1      1    1  \n",
       "2            0.0         1.0      1      1    1  \n",
       "3            0.0         1.0      1      1    1  \n",
       "4            0.0         1.0      1      1    1  "
      ]
     },
     "execution_count": 98,
     "metadata": {},
     "output_type": "execute_result"
    }
   ],
   "source": [
    "fd['Date'] = pd.to_datetime(fd['Date'])      \n",
    "fd['month'] = fd['Date'].dt.month\n",
    "fd['day'] = fd['Date'].dt.day\n",
    "fd.head()"
   ]
  },
  {
   "cell_type": "markdown",
   "metadata": {},
   "source": [
    "Before I could break the data down by day I needed to create a seperate month and day column, which was done above"
   ]
  },
  {
   "cell_type": "markdown",
   "metadata": {},
   "source": [
    "#### Now lets look graph the November dangerous waves to see why it is such an outlier"
   ]
  },
  {
   "cell_type": "code",
   "execution_count": 99,
   "metadata": {
    "collapsed": false,
    "scrolled": true
   },
   "outputs": [
    {
     "data": {
      "text/html": [
       "<div>\n",
       "<style scoped>\n",
       "    .dataframe tbody tr th:only-of-type {\n",
       "        vertical-align: middle;\n",
       "    }\n",
       "\n",
       "    .dataframe tbody tr th {\n",
       "        vertical-align: top;\n",
       "    }\n",
       "\n",
       "    .dataframe thead th {\n",
       "        text-align: right;\n",
       "    }\n",
       "</style>\n",
       "<table border=\"1\" class=\"dataframe\">\n",
       "  <thead>\n",
       "    <tr style=\"text-align: right;\">\n",
       "      <th></th>\n",
       "      <th>Hs</th>\n",
       "      <th>Hmax</th>\n",
       "      <th>Tz</th>\n",
       "      <th>Tp</th>\n",
       "      <th>Peak Direction</th>\n",
       "      <th>SST</th>\n",
       "      <th>Date</th>\n",
       "      <th>Time</th>\n",
       "      <th>Number Caught</th>\n",
       "      <th>Moon Phase</th>\n",
       "      <th>Count</th>\n",
       "      <th>month</th>\n",
       "      <th>day</th>\n",
       "    </tr>\n",
       "  </thead>\n",
       "  <tbody>\n",
       "    <tr>\n",
       "      <th>14972</th>\n",
       "      <td>1.320</td>\n",
       "      <td>2.70</td>\n",
       "      <td>4.185</td>\n",
       "      <td>5.392</td>\n",
       "      <td>98.46</td>\n",
       "      <td>27.80</td>\n",
       "      <td>2017-11-08</td>\n",
       "      <td>23:00</td>\n",
       "      <td>0.0</td>\n",
       "      <td>3.0</td>\n",
       "      <td>1</td>\n",
       "      <td>11</td>\n",
       "      <td>8</td>\n",
       "    </tr>\n",
       "    <tr>\n",
       "      <th>14978</th>\n",
       "      <td>1.323</td>\n",
       "      <td>2.76</td>\n",
       "      <td>4.223</td>\n",
       "      <td>4.712</td>\n",
       "      <td>102.46</td>\n",
       "      <td>27.90</td>\n",
       "      <td>2017-11-09</td>\n",
       "      <td>2:00</td>\n",
       "      <td>0.0</td>\n",
       "      <td>3.0</td>\n",
       "      <td>1</td>\n",
       "      <td>11</td>\n",
       "      <td>9</td>\n",
       "    </tr>\n",
       "    <tr>\n",
       "      <th>14986</th>\n",
       "      <td>1.319</td>\n",
       "      <td>2.85</td>\n",
       "      <td>4.160</td>\n",
       "      <td>5.342</td>\n",
       "      <td>94.46</td>\n",
       "      <td>28.10</td>\n",
       "      <td>2017-11-09</td>\n",
       "      <td>6:00</td>\n",
       "      <td>0.0</td>\n",
       "      <td>3.0</td>\n",
       "      <td>1</td>\n",
       "      <td>11</td>\n",
       "      <td>9</td>\n",
       "    </tr>\n",
       "    <tr>\n",
       "      <th>14990</th>\n",
       "      <td>1.291</td>\n",
       "      <td>2.52</td>\n",
       "      <td>4.085</td>\n",
       "      <td>6.318</td>\n",
       "      <td>99.46</td>\n",
       "      <td>28.10</td>\n",
       "      <td>2017-11-09</td>\n",
       "      <td>8:00</td>\n",
       "      <td>0.0</td>\n",
       "      <td>3.0</td>\n",
       "      <td>1</td>\n",
       "      <td>11</td>\n",
       "      <td>9</td>\n",
       "    </tr>\n",
       "    <tr>\n",
       "      <th>14992</th>\n",
       "      <td>1.350</td>\n",
       "      <td>2.60</td>\n",
       "      <td>4.180</td>\n",
       "      <td>5.698</td>\n",
       "      <td>99.46</td>\n",
       "      <td>27.95</td>\n",
       "      <td>2017-11-09</td>\n",
       "      <td>9:00</td>\n",
       "      <td>0.0</td>\n",
       "      <td>3.0</td>\n",
       "      <td>1</td>\n",
       "      <td>11</td>\n",
       "      <td>9</td>\n",
       "    </tr>\n",
       "  </tbody>\n",
       "</table>\n",
       "</div>"
      ],
      "text/plain": [
       "          Hs  Hmax     Tz     Tp  Peak Direction    SST       Date   Time  \\\n",
       "14972  1.320  2.70  4.185  5.392           98.46  27.80 2017-11-08  23:00   \n",
       "14978  1.323  2.76  4.223  4.712          102.46  27.90 2017-11-09   2:00   \n",
       "14986  1.319  2.85  4.160  5.342           94.46  28.10 2017-11-09   6:00   \n",
       "14990  1.291  2.52  4.085  6.318           99.46  28.10 2017-11-09   8:00   \n",
       "14992  1.350  2.60  4.180  5.698           99.46  27.95 2017-11-09   9:00   \n",
       "\n",
       "       Number Caught  Moon Phase  Count  month  day  \n",
       "14972            0.0         3.0      1     11    8  \n",
       "14978            0.0         3.0      1     11    9  \n",
       "14986            0.0         3.0      1     11    9  \n",
       "14990            0.0         3.0      1     11    9  \n",
       "14992            0.0         3.0      1     11    9  "
      ]
     },
     "execution_count": 99,
     "metadata": {},
     "output_type": "execute_result"
    }
   ],
   "source": [
    "danger = fd[(fd['Hmax'] > 2.49)]\n",
    "November = danger[danger['month']==11]\n",
    "November.head()"
   ]
  },
  {
   "cell_type": "markdown",
   "metadata": {},
   "source": [
    "Initially I needed to create another data frame with only November data"
   ]
  },
  {
   "cell_type": "code",
   "execution_count": 100,
   "metadata": {
    "collapsed": false
   },
   "outputs": [
    {
     "name": "stderr",
     "output_type": "stream",
     "text": [
      "/usr/local/lib/python3.4/dist-packages/ipykernel/__main__.py:1: SettingWithCopyWarning: \n",
      "A value is trying to be set on a copy of a slice from a DataFrame.\n",
      "Try using .loc[row_indexer,col_indexer] = value instead\n",
      "\n",
      "See the caveats in the documentation: http://pandas.pydata.org/pandas-docs/stable/indexing.html#indexing-view-versus-copy\n",
      "  if __name__ == '__main__':\n"
     ]
    }
   ],
   "source": [
    "November['Count'] = np.where(November['Hmax']>2.49, 1, 0)\n",
    "danger = November[['day', 'Count']]\n",
    "NovDan = danger.groupby('day').agg({'Count': ['sum']})"
   ]
  },
  {
   "cell_type": "markdown",
   "metadata": {},
   "source": [
    "Then I followed the same process done with the month data to plot this data by day."
   ]
  },
  {
   "cell_type": "code",
   "execution_count": 101,
   "metadata": {
    "collapsed": false
   },
   "outputs": [
    {
     "data": {
      "image/png": "[encoded data removed]",
      "text/plain": [
       "<Figure size 600x400 with 1 Axes>"
      ]
     },
     "metadata": {},
     "output_type": "display_data"
    }
   ],
   "source": [
    "p1 = NovDan.plot(kind='bar', title='Figure 7. Periods of dangerous waves in November by day', yticks=[5, 10, 15, 20, 25, 30, 35, 40])"
   ]
  },
  {
   "cell_type": "markdown",
   "metadata": {
    "collapsed": true
   },
   "source": [
    "We can see by looking at the graph that there was a massive spike in dangerous wave activity between the 9th and 13th of November. This could possibly be contributed to a large storm or some other phenomena. "
   ]
  },
  {
   "cell_type": "markdown",
   "metadata": {},
   "source": [
    "#### After finding this massive spike of rough waves in November, I decided on another method of data analysis. I took the storm data from November 9th to 13th and made a seperate data frame including only that data. Then I wanted to layer this data on top of the total data to see if it was clustered in specific locations. "
   ]
  },
  {
   "cell_type": "code",
   "execution_count": 102,
   "metadata": {
    "collapsed": true
   },
   "outputs": [],
   "source": [
    "storm = November[November['day'].isin([9, 10, 11, 12, 13])]"
   ]
  },
  {
   "cell_type": "markdown",
   "metadata": {},
   "source": [
    "#### Comparing storm data to overall data via scatterplots"
   ]
  },
  {
   "cell_type": "code",
   "execution_count": 103,
   "metadata": {
    "collapsed": false
   },
   "outputs": [
    {
     "data": {
      "text/plain": [
       "Text(0,0.5,'Tz (Sec)')"
      ]
     },
     "execution_count": 103,
     "metadata": {},
     "output_type": "execute_result"
    },
    {
     "data": {
      "image/png": "[encoded data removed]",
      "text/plain": [
       "<Figure size 600x400 with 1 Axes>"
      ]
     },
     "metadata": {},
     "output_type": "display_data"
    }
   ],
   "source": [
    "plt.scatter(fd['Tp'], fd['Tz'])\n",
    "plt.scatter(storm['Tp'], storm['Tz'], color = \"yellow\")\n",
    "plt.title(\"Figure 8\")\n",
    "plt.xlabel(\"Tp (Sec)\")\n",
    "plt.ylabel(\"Tz (Sec)\")"
   ]
  },
  {
   "cell_type": "markdown",
   "metadata": {},
   "source": [
    "When looking at average wave frequency and peak energy wave frequency of the storm data, it is obvious that the storm data is clustered in a very specific area of the overall data. During the storm days, the peak energy wave frequency was consistently between 4 and 8 seconds, while the average wave frequency was between 3.5 and 5 seconds"
   ]
  },
  {
   "cell_type": "code",
   "execution_count": 104,
   "metadata": {
    "collapsed": false
   },
   "outputs": [
    {
     "data": {
      "text/plain": [
       "Text(0.5,0,'SST (Cel)')"
      ]
     },
     "execution_count": 104,
     "metadata": {},
     "output_type": "execute_result"
    },
    {
     "data": {
      "image/png": "[encoded data removed]",
      "text/plain": [
       "<Figure size 600x400 with 1 Axes>"
      ]
     },
     "metadata": {},
     "output_type": "display_data"
    }
   ],
   "source": [
    "plt.scatter(fd['SST'], fd['Peak Direction'])\n",
    "plt.scatter(storm['SST'], storm['Peak Direction'], color = \"yellow\")\n",
    "plt.title(\"Figure 9\")\n",
    "plt.ylabel(\"Peak Direction (Degrees to True North)\")\n",
    "plt.xlabel(\"SST (Cel)\")"
   ]
  },
  {
   "cell_type": "markdown",
   "metadata": {},
   "source": [
    "When looking at the sea surface temperature and the peak direction of the storm data, the data is again clustered in a specific area of the overall data. During the storm days the sea surface temperature was between 26 and 28 degrees celsius (It should be noted that sea surface temperature does not change quickly, so this may mean nothing), while peak direction was always between 75 and 100 degrees related to true north. "
   ]
  },
  {
   "cell_type": "markdown",
   "metadata": {},
   "source": [
    "#### For my next method of data analysis I wanted to look at the distrubution of Hmax across moon phase, month, and time. This way we can see when waves are at their roughest and calmest as it relates to each of these variables."
   ]
  },
  {
   "cell_type": "code",
   "execution_count": 105,
   "metadata": {
    "collapsed": false
   },
   "outputs": [
    {
     "name": "stderr",
     "output_type": "stream",
     "text": [
      "/usr/local/lib/python3.4/dist-packages/seaborn/categorical.py:454: FutureWarning: remove_na is deprecated and is a private function. Do not use.\n",
      "  box_data = remove_na(group_data)\n"
     ]
    },
    {
     "data": {
      "text/plain": [
       "<matplotlib.axes._subplots.AxesSubplot at 0x7f5c82e9cb70>"
      ]
     },
     "execution_count": 105,
     "metadata": {},
     "output_type": "execute_result"
    },
    {
     "data": {
      "image/png": "[encoded data removed]",
      "text/plain": [
       "<Figure size 900x600 with 1 Axes>"
      ]
     },
     "metadata": {},
     "output_type": "display_data"
    }
   ],
   "source": [
    "fig = plt.figure(1, figsize=(9, 6))\n",
    "sns.boxplot(x='month',y='Hmax',data=fd)"
   ]
  },
  {
   "cell_type": "markdown",
   "metadata": {},
   "source": [
    "This plot shows how Hmax is distrubtued across each month. As the data shows, Hmax was generally higher during the first half of the year, peaking in April. After July, Hmax saw a noticiable drop. Although there was a spike in November, likely a result of the storm or other phenomena that I already covered, the Hmax distrubution from August-December generally had medians and quartile ranges less than the first seven months."
   ]
  },
  {
   "cell_type": "code",
   "execution_count": 106,
   "metadata": {
    "collapsed": false
   },
   "outputs": [
    {
     "name": "stderr",
     "output_type": "stream",
     "text": [
      "/usr/local/lib/python3.4/dist-packages/seaborn/categorical.py:454: FutureWarning: remove_na is deprecated and is a private function. Do not use.\n",
      "  box_data = remove_na(group_data)\n"
     ]
    },
    {
     "data": {
      "text/plain": [
       "<matplotlib.axes._subplots.AxesSubplot at 0x7f5c82e705c0>"
      ]
     },
     "execution_count": 106,
     "metadata": {},
     "output_type": "execute_result"
    },
    {
     "data": {
      "image/png": "[encoded data removed]",
      "text/plain": [
       "<Figure size 900x600 with 1 Axes>"
      ]
     },
     "metadata": {},
     "output_type": "display_data"
    }
   ],
   "source": [
    "fig = plt.figure(1, figsize=(9, 6))\n",
    "sns.boxplot(x='Moon Phase',y='Hmax',data=fd)"
   ]
  },
  {
   "cell_type": "markdown",
   "metadata": {},
   "source": [
    "This plot shows the distrubution of Hmax across all moon phases. Surprisingly, when the moon was full the median and range of Hmax was at its smallest, although the full moon did have the most outlier values. Both quarter moon phases had higher medians and interquartile ranges then either full or new moons. "
   ]
  },
  {
   "cell_type": "code",
   "execution_count": 107,
   "metadata": {
    "collapsed": false,
    "scrolled": false
   },
   "outputs": [
    {
     "name": "stderr",
     "output_type": "stream",
     "text": [
      "/usr/local/lib/python3.4/dist-packages/seaborn/categorical.py:454: FutureWarning: remove_na is deprecated and is a private function. Do not use.\n",
      "  box_data = remove_na(group_data)\n"
     ]
    },
    {
     "data": {
      "text/plain": [
       "<matplotlib.axes._subplots.AxesSubplot at 0x7f5c82c188d0>"
      ]
     },
     "execution_count": 107,
     "metadata": {},
     "output_type": "execute_result"
    },
    {
     "data": {
      "image/png": "[encoded data removed]",
      "text/plain": [
       "<Figure size 900x600 with 1 Axes>"
      ]
     },
     "metadata": {},
     "output_type": "display_data"
    }
   ],
   "source": [
    "fig = plt.figure(1, figsize=(9, 6))\n",
    "sns.boxplot(x='Time',y='Hmax',data=fd)"
   ]
  },
  {
   "cell_type": "markdown",
   "metadata": {},
   "source": [
    "This plot shows the distrubution of Hmax across every half hour interval. There is a lot of data here, but the median value stands out. The median Hmax is at its greatest around 2:30 am. After this, median Hmax decreases pretty consistently until it eventually reaches its minimum median value at 1:30 pm. After that, Hmax steadily increases again until the end of the day."
   ]
  },
  {
   "cell_type": "markdown",
   "metadata": {},
   "source": [
    "#### Moving on temporarily from looking at wave specific data, I wanted to look at the data of sharks caught. Once again my first method of analysis was plotting the data on a bar graph by month to get a better understanding of when sharks were near the shore the most."
   ]
  },
  {
   "cell_type": "code",
   "execution_count": 108,
   "metadata": {
    "collapsed": false
   },
   "outputs": [
    {
     "data": {
      "image/png": "[encoded data removed]",
      "text/plain": [
       "<Figure size 600x400 with 1 Axes>"
      ]
     },
     "metadata": {},
     "output_type": "display_data"
    }
   ],
   "source": [
    "sharkData['Date'] = pd.to_datetime(sharkData['Date']) \n",
    "ShMon = sharkData.groupby(sharkData['Date'].dt.strftime('%B'))['Number Caught'].sum()\n",
    "ShMon = ShMon.reindex(months)\n",
    "p1 = ShMon.plot(kind='bar', title='Figure 13. Sharks caught near the shoreline by month', yticks=[3, 6, 9, 12, 15])"
   ]
  },
  {
   "cell_type": "markdown",
   "metadata": {},
   "source": [
    "For this analysis I did a similar thing that I did with the rough wave periods bar graph by month. I used my original shark data frame that only included the date and number of sharks caught to make this plotting easier. I grouped this data by month, reindexed the months and then plotted the data. The bar graph showed that the number of sharks caught generally was high during the begining of the year peaking in April. There is a noticable drop off in sharks caught from June-September. Then the sharks caught increase again in October and remains steady for the next two months"
   ]
  },
  {
   "cell_type": "markdown",
   "metadata": {},
   "source": [
    "#### For my next method of analysis, I wanted to do a similar thing that I did with the wave data. So I took all the data from the days when sharks were caught near the shore and layered that data on top of the entire data to see if any trends emerged."
   ]
  },
  {
   "cell_type": "code",
   "execution_count": 109,
   "metadata": {
    "collapsed": false
   },
   "outputs": [
    {
     "data": {
      "text/html": [
       "<div>\n",
       "<style scoped>\n",
       "    .dataframe tbody tr th:only-of-type {\n",
       "        vertical-align: middle;\n",
       "    }\n",
       "\n",
       "    .dataframe tbody tr th {\n",
       "        vertical-align: top;\n",
       "    }\n",
       "\n",
       "    .dataframe thead th {\n",
       "        text-align: right;\n",
       "    }\n",
       "</style>\n",
       "<table border=\"1\" class=\"dataframe\">\n",
       "  <thead>\n",
       "    <tr style=\"text-align: right;\">\n",
       "      <th></th>\n",
       "      <th>Hs</th>\n",
       "      <th>Hmax</th>\n",
       "      <th>Tz</th>\n",
       "      <th>Tp</th>\n",
       "      <th>Peak Direction</th>\n",
       "      <th>SST</th>\n",
       "      <th>Date</th>\n",
       "      <th>Time</th>\n",
       "      <th>Number Caught</th>\n",
       "      <th>Moon Phase</th>\n",
       "      <th>Count</th>\n",
       "      <th>month</th>\n",
       "      <th>day</th>\n",
       "    </tr>\n",
       "  </thead>\n",
       "  <tbody>\n",
       "    <tr>\n",
       "      <th>478</th>\n",
       "      <td>1.171</td>\n",
       "      <td>1.97</td>\n",
       "      <td>4.042</td>\n",
       "      <td>4.703</td>\n",
       "      <td>105.48</td>\n",
       "      <td>29.00</td>\n",
       "      <td>2017-01-11</td>\n",
       "      <td>0:00</td>\n",
       "      <td>1.0</td>\n",
       "      <td>2.0</td>\n",
       "      <td>1</td>\n",
       "      <td>1</td>\n",
       "      <td>11</td>\n",
       "    </tr>\n",
       "    <tr>\n",
       "      <th>479</th>\n",
       "      <td>1.200</td>\n",
       "      <td>2.12</td>\n",
       "      <td>3.951</td>\n",
       "      <td>4.835</td>\n",
       "      <td>95.48</td>\n",
       "      <td>29.00</td>\n",
       "      <td>2017-01-11</td>\n",
       "      <td>0:30</td>\n",
       "      <td>1.0</td>\n",
       "      <td>2.0</td>\n",
       "      <td>1</td>\n",
       "      <td>1</td>\n",
       "      <td>11</td>\n",
       "    </tr>\n",
       "    <tr>\n",
       "      <th>480</th>\n",
       "      <td>1.107</td>\n",
       "      <td>2.08</td>\n",
       "      <td>3.869</td>\n",
       "      <td>4.852</td>\n",
       "      <td>101.48</td>\n",
       "      <td>28.95</td>\n",
       "      <td>2017-01-11</td>\n",
       "      <td>1:00</td>\n",
       "      <td>1.0</td>\n",
       "      <td>2.0</td>\n",
       "      <td>1</td>\n",
       "      <td>1</td>\n",
       "      <td>11</td>\n",
       "    </tr>\n",
       "    <tr>\n",
       "      <th>481</th>\n",
       "      <td>1.126</td>\n",
       "      <td>2.12</td>\n",
       "      <td>3.935</td>\n",
       "      <td>5.199</td>\n",
       "      <td>97.48</td>\n",
       "      <td>28.95</td>\n",
       "      <td>2017-01-11</td>\n",
       "      <td>1:30</td>\n",
       "      <td>1.0</td>\n",
       "      <td>2.0</td>\n",
       "      <td>1</td>\n",
       "      <td>1</td>\n",
       "      <td>11</td>\n",
       "    </tr>\n",
       "    <tr>\n",
       "      <th>482</th>\n",
       "      <td>1.168</td>\n",
       "      <td>2.03</td>\n",
       "      <td>3.892</td>\n",
       "      <td>4.792</td>\n",
       "      <td>101.48</td>\n",
       "      <td>28.95</td>\n",
       "      <td>2017-01-11</td>\n",
       "      <td>2:00</td>\n",
       "      <td>1.0</td>\n",
       "      <td>2.0</td>\n",
       "      <td>1</td>\n",
       "      <td>1</td>\n",
       "      <td>11</td>\n",
       "    </tr>\n",
       "  </tbody>\n",
       "</table>\n",
       "</div>"
      ],
      "text/plain": [
       "        Hs  Hmax     Tz     Tp  Peak Direction    SST       Date  Time  \\\n",
       "478  1.171  1.97  4.042  4.703          105.48  29.00 2017-01-11  0:00   \n",
       "479  1.200  2.12  3.951  4.835           95.48  29.00 2017-01-11  0:30   \n",
       "480  1.107  2.08  3.869  4.852          101.48  28.95 2017-01-11  1:00   \n",
       "481  1.126  2.12  3.935  5.199           97.48  28.95 2017-01-11  1:30   \n",
       "482  1.168  2.03  3.892  4.792          101.48  28.95 2017-01-11  2:00   \n",
       "\n",
       "     Number Caught  Moon Phase  Count  month  day  \n",
       "478            1.0         2.0      1      1   11  \n",
       "479            1.0         2.0      1      1   11  \n",
       "480            1.0         2.0      1      1   11  \n",
       "481            1.0         2.0      1      1   11  \n",
       "482            1.0         2.0      1      1   11  "
      ]
     },
     "execution_count": 109,
     "metadata": {},
     "output_type": "execute_result"
    }
   ],
   "source": [
    "sharkDay = fd[(fd['Number Caught'] > 0)]\n",
    "sharkDay.head()"
   ]
  },
  {
   "cell_type": "markdown",
   "metadata": {},
   "source": [
    "First I had to create a seperate data frame that just included data from days sharks were caught"
   ]
  },
  {
   "cell_type": "code",
   "execution_count": 110,
   "metadata": {
    "collapsed": false
   },
   "outputs": [
    {
     "data": {
      "text/plain": [
       "Text(0.5,0,'Tp (Sec)')"
      ]
     },
     "execution_count": 110,
     "metadata": {},
     "output_type": "execute_result"
    },
    {
     "data": {
      "image/png": "[encoded data removed]",
      "text/plain": [
       "<Figure size 600x400 with 1 Axes>"
      ]
     },
     "metadata": {},
     "output_type": "display_data"
    }
   ],
   "source": [
    "plt.scatter(fd['Tp'], fd['Tz'])\n",
    "plt.scatter(sharkDay['Tp'], sharkDay['Tz'], color = \"yellow\")\n",
    "plt.title(\"Figure 15\")\n",
    "plt.ylabel(\"Tz (Sec)\")\n",
    "plt.xlabel(\"Tp (Sec)\")"
   ]
  },
  {
   "cell_type": "markdown",
   "metadata": {},
   "source": [
    "This scatter plot shows the Tz and Tp data from the days when sharks were caught in yellow on top of the total data. Although it is not clustered like the storm data was, there are certainly some trends. It appears that sharks are extremely unlikely to be near the shore when Tp is greater than 9 or Tz is greater than 4.5."
   ]
  },
  {
   "cell_type": "code",
   "execution_count": 111,
   "metadata": {
    "collapsed": false
   },
   "outputs": [
    {
     "data": {
      "text/plain": [
       "Text(0.5,0,'Hmax (Meters)')"
      ]
     },
     "execution_count": 111,
     "metadata": {},
     "output_type": "execute_result"
    },
    {
     "data": {
      "image/png": "[encoded data removed]",
      "text/plain": [
       "<Figure size 600x400 with 1 Axes>"
      ]
     },
     "metadata": {},
     "output_type": "display_data"
    }
   ],
   "source": [
    "plt.scatter(fd['Hmax'], fd['Hs'])\n",
    "plt.scatter(sharkDay['Hmax'], sharkDay['Hs'], color = \"yellow\")\n",
    "plt.title(\"Figure 14\")\n",
    "plt.ylabel(\"Hs (Meters)\")\n",
    "plt.xlabel(\"Hmax (Meters)\")"
   ]
  },
  {
   "cell_type": "markdown",
   "metadata": {},
   "source": [
    "This scatter plot shows the Hs and Hmax data from the days when sharks were caught in yellow on top of the total data. Again there are some trends despite the shark data not being clustered well. It appears that sharks are extremely unlikely to be near the shore when Hmax in greater than 2.5 or Tz is greater than 1.5. "
   ]
  },
  {
   "cell_type": "code",
   "execution_count": 112,
   "metadata": {
    "collapsed": false
   },
   "outputs": [
    {
     "data": {
      "text/plain": [
       "Text(0.5,0,'SST (Cel)')"
      ]
     },
     "execution_count": 112,
     "metadata": {},
     "output_type": "execute_result"
    },
    {
     "data": {
      "image/png": "[encoded data removed]",
      "text/plain": [
       "<Figure size 600x400 with 1 Axes>"
      ]
     },
     "metadata": {},
     "output_type": "display_data"
    }
   ],
   "source": [
    "plt.scatter(fd['SST'], fd['Peak Direction'])\n",
    "plt.scatter(sharkDay['SST'], sharkDay['Peak Direction'], color = \"yellow\")\n",
    "plt.title(\"Figure 16\")\n",
    "plt.ylabel(\"Peak Direction (Degrees to True North)\")\n",
    "plt.xlabel(\"SST (Cel)\")"
   ]
  },
  {
   "cell_type": "markdown",
   "metadata": {
    "collapsed": false
   },
   "source": [
    "This scatter plot shows the Peak Direction and SST data from the days when sharks were caught in yellow on top of the total data. Unlike the previous two scatter plots, no trends appear to be present in this one."
   ]
  },
  {
   "cell_type": "markdown",
   "metadata": {},
   "source": [
    "### Predictive Data Modeling"
   ]
  },
  {
   "cell_type": "markdown",
   "metadata": {},
   "source": [
    "#### For one final method of data analysis I decided to run an SVM classification to try and predict both rough waves and when sharks would be near the shore."
   ]
  },
  {
   "cell_type": "code",
   "execution_count": 113,
   "metadata": {
    "collapsed": false
   },
   "outputs": [
    {
     "data": {
      "text/html": [
       "<div>\n",
       "<style scoped>\n",
       "    .dataframe tbody tr th:only-of-type {\n",
       "        vertical-align: middle;\n",
       "    }\n",
       "\n",
       "    .dataframe tbody tr th {\n",
       "        vertical-align: top;\n",
       "    }\n",
       "\n",
       "    .dataframe thead th {\n",
       "        text-align: right;\n",
       "    }\n",
       "</style>\n",
       "<table border=\"1\" class=\"dataframe\">\n",
       "  <thead>\n",
       "    <tr style=\"text-align: right;\">\n",
       "      <th></th>\n",
       "      <th>Hs</th>\n",
       "      <th>Hmax</th>\n",
       "      <th>Tz</th>\n",
       "      <th>Tp</th>\n",
       "      <th>Peak Direction</th>\n",
       "      <th>SST</th>\n",
       "      <th>Date</th>\n",
       "      <th>Time</th>\n",
       "      <th>Number Caught</th>\n",
       "      <th>Moon Phase</th>\n",
       "      <th>Count</th>\n",
       "      <th>month</th>\n",
       "      <th>day</th>\n",
       "      <th>Rough Waves</th>\n",
       "    </tr>\n",
       "  </thead>\n",
       "  <tbody>\n",
       "    <tr>\n",
       "      <th>0</th>\n",
       "      <td>0.488</td>\n",
       "      <td>0.88</td>\n",
       "      <td>3.356</td>\n",
       "      <td>3.647</td>\n",
       "      <td>42.48</td>\n",
       "      <td>29.25</td>\n",
       "      <td>2017-01-01</td>\n",
       "      <td>1:00</td>\n",
       "      <td>0.0</td>\n",
       "      <td>1.0</td>\n",
       "      <td>1</td>\n",
       "      <td>1</td>\n",
       "      <td>1</td>\n",
       "      <td>No</td>\n",
       "    </tr>\n",
       "    <tr>\n",
       "      <th>1</th>\n",
       "      <td>0.517</td>\n",
       "      <td>0.94</td>\n",
       "      <td>3.323</td>\n",
       "      <td>3.441</td>\n",
       "      <td>29.48</td>\n",
       "      <td>29.20</td>\n",
       "      <td>2017-01-01</td>\n",
       "      <td>1:30</td>\n",
       "      <td>0.0</td>\n",
       "      <td>1.0</td>\n",
       "      <td>1</td>\n",
       "      <td>1</td>\n",
       "      <td>1</td>\n",
       "      <td>No</td>\n",
       "    </tr>\n",
       "    <tr>\n",
       "      <th>2</th>\n",
       "      <td>0.495</td>\n",
       "      <td>0.97</td>\n",
       "      <td>3.526</td>\n",
       "      <td>3.885</td>\n",
       "      <td>35.48</td>\n",
       "      <td>29.20</td>\n",
       "      <td>2017-01-01</td>\n",
       "      <td>2:00</td>\n",
       "      <td>0.0</td>\n",
       "      <td>1.0</td>\n",
       "      <td>1</td>\n",
       "      <td>1</td>\n",
       "      <td>1</td>\n",
       "      <td>No</td>\n",
       "    </tr>\n",
       "    <tr>\n",
       "      <th>3</th>\n",
       "      <td>0.463</td>\n",
       "      <td>0.94</td>\n",
       "      <td>3.408</td>\n",
       "      <td>3.796</td>\n",
       "      <td>33.48</td>\n",
       "      <td>29.20</td>\n",
       "      <td>2017-01-01</td>\n",
       "      <td>2:30</td>\n",
       "      <td>0.0</td>\n",
       "      <td>1.0</td>\n",
       "      <td>1</td>\n",
       "      <td>1</td>\n",
       "      <td>1</td>\n",
       "      <td>No</td>\n",
       "    </tr>\n",
       "    <tr>\n",
       "      <th>4</th>\n",
       "      <td>0.485</td>\n",
       "      <td>0.91</td>\n",
       "      <td>3.521</td>\n",
       "      <td>3.748</td>\n",
       "      <td>39.48</td>\n",
       "      <td>29.20</td>\n",
       "      <td>2017-01-01</td>\n",
       "      <td>3:00</td>\n",
       "      <td>0.0</td>\n",
       "      <td>1.0</td>\n",
       "      <td>1</td>\n",
       "      <td>1</td>\n",
       "      <td>1</td>\n",
       "      <td>No</td>\n",
       "    </tr>\n",
       "  </tbody>\n",
       "</table>\n",
       "</div>"
      ],
      "text/plain": [
       "      Hs  Hmax     Tz     Tp  Peak Direction    SST       Date  Time  \\\n",
       "0  0.488  0.88  3.356  3.647           42.48  29.25 2017-01-01  1:00   \n",
       "1  0.517  0.94  3.323  3.441           29.48  29.20 2017-01-01  1:30   \n",
       "2  0.495  0.97  3.526  3.885           35.48  29.20 2017-01-01  2:00   \n",
       "3  0.463  0.94  3.408  3.796           33.48  29.20 2017-01-01  2:30   \n",
       "4  0.485  0.91  3.521  3.748           39.48  29.20 2017-01-01  3:00   \n",
       "\n",
       "   Number Caught  Moon Phase  Count  month  day Rough Waves  \n",
       "0            0.0         1.0      1      1    1          No  \n",
       "1            0.0         1.0      1      1    1          No  \n",
       "2            0.0         1.0      1      1    1          No  \n",
       "3            0.0         1.0      1      1    1          No  \n",
       "4            0.0         1.0      1      1    1          No  "
      ]
     },
     "execution_count": 113,
     "metadata": {},
     "output_type": "execute_result"
    }
   ],
   "source": [
    "fd['Rough Waves'] = np.where(fd['Hmax']>2.49, 'Yes', 'No')\n",
    "fd.head()"
   ]
  },
  {
   "cell_type": "markdown",
   "metadata": {},
   "source": [
    "I first needed to create a new data column that classified whether waves were rough or not."
   ]
  },
  {
   "cell_type": "code",
   "execution_count": 114,
   "metadata": {
    "collapsed": false
   },
   "outputs": [
    {
     "data": {
      "text/html": [
       "<div>\n",
       "<style scoped>\n",
       "    .dataframe tbody tr th:only-of-type {\n",
       "        vertical-align: middle;\n",
       "    }\n",
       "\n",
       "    .dataframe tbody tr th {\n",
       "        vertical-align: top;\n",
       "    }\n",
       "\n",
       "    .dataframe thead th {\n",
       "        text-align: right;\n",
       "    }\n",
       "</style>\n",
       "<table border=\"1\" class=\"dataframe\">\n",
       "  <thead>\n",
       "    <tr style=\"text-align: right;\">\n",
       "      <th></th>\n",
       "      <th>Hs</th>\n",
       "      <th>Tz</th>\n",
       "      <th>Peak Direction</th>\n",
       "      <th>Moon Phase</th>\n",
       "      <th>month</th>\n",
       "      <th>Rough Waves</th>\n",
       "    </tr>\n",
       "  </thead>\n",
       "  <tbody>\n",
       "    <tr>\n",
       "      <th>0</th>\n",
       "      <td>0.488</td>\n",
       "      <td>3.356</td>\n",
       "      <td>42.48</td>\n",
       "      <td>1.0</td>\n",
       "      <td>1</td>\n",
       "      <td>No</td>\n",
       "    </tr>\n",
       "    <tr>\n",
       "      <th>1</th>\n",
       "      <td>0.517</td>\n",
       "      <td>3.323</td>\n",
       "      <td>29.48</td>\n",
       "      <td>1.0</td>\n",
       "      <td>1</td>\n",
       "      <td>No</td>\n",
       "    </tr>\n",
       "    <tr>\n",
       "      <th>2</th>\n",
       "      <td>0.495</td>\n",
       "      <td>3.526</td>\n",
       "      <td>35.48</td>\n",
       "      <td>1.0</td>\n",
       "      <td>1</td>\n",
       "      <td>No</td>\n",
       "    </tr>\n",
       "    <tr>\n",
       "      <th>3</th>\n",
       "      <td>0.463</td>\n",
       "      <td>3.408</td>\n",
       "      <td>33.48</td>\n",
       "      <td>1.0</td>\n",
       "      <td>1</td>\n",
       "      <td>No</td>\n",
       "    </tr>\n",
       "    <tr>\n",
       "      <th>4</th>\n",
       "      <td>0.485</td>\n",
       "      <td>3.521</td>\n",
       "      <td>39.48</td>\n",
       "      <td>1.0</td>\n",
       "      <td>1</td>\n",
       "      <td>No</td>\n",
       "    </tr>\n",
       "  </tbody>\n",
       "</table>\n",
       "</div>"
      ],
      "text/plain": [
       "      Hs     Tz  Peak Direction  Moon Phase  month Rough Waves\n",
       "0  0.488  3.356           42.48         1.0      1          No\n",
       "1  0.517  3.323           29.48         1.0      1          No\n",
       "2  0.495  3.526           35.48         1.0      1          No\n",
       "3  0.463  3.408           33.48         1.0      1          No\n",
       "4  0.485  3.521           39.48         1.0      1          No"
      ]
     },
     "execution_count": 114,
     "metadata": {},
     "output_type": "execute_result"
    }
   ],
   "source": [
    "from sklearn.model_selection import train_test_split\n",
    "from sklearn.svm import SVC\n",
    "from sklearn.metrics import classification_report, confusion_matrix\n",
    "wave_predict = fd[['Hs', 'Tz', 'Peak Direction', 'Moon Phase', 'month', 'Rough Waves']]\n",
    "wave_predict.head()"
   ]
  },
  {
   "cell_type": "markdown",
   "metadata": {},
   "source": [
    "Next I created a seperate data frame with just the classification variable and the factor variables that would be attempting to predict it."
   ]
  },
  {
   "cell_type": "code",
   "execution_count": 115,
   "metadata": {
    "collapsed": false
   },
   "outputs": [],
   "source": [
    "x=wave_predict[['Hs', 'Tz', 'Peak Direction', 'Moon Phase', 'month']]\n",
    "y=wave_predict['Rough Waves']\n",
    "x_train,x_test, y_train, y_test=train_test_split(x,y,test_size=0.30)"
   ]
  },
  {
   "cell_type": "code",
   "execution_count": 116,
   "metadata": {
    "collapsed": false
   },
   "outputs": [
    {
     "name": "stderr",
     "output_type": "stream",
     "text": [
      "/usr/local/lib/python3.4/dist-packages/sklearn/svm/base.py:196: FutureWarning: The default value of gamma will change from 'auto' to 'scale' in version 0.22 to account better for unscaled features. Set gamma explicitly to 'auto' or 'scale' to avoid this warning.\n",
      "  \"avoid this warning.\", FutureWarning)\n"
     ]
    },
    {
     "data": {
      "text/plain": [
       "SVC(C=1.0, cache_size=200, class_weight=None, coef0=0.0,\n",
       "  decision_function_shape='ovr', degree=3, gamma='auto_deprecated',\n",
       "  kernel='rbf', max_iter=-1, probability=False, random_state=None,\n",
       "  shrinking=True, tol=0.001, verbose=False)"
      ]
     },
     "execution_count": 116,
     "metadata": {},
     "output_type": "execute_result"
    }
   ],
   "source": [
    "model=SVC()\n",
    "model.fit(x_train, y_train)"
   ]
  },
  {
   "cell_type": "markdown",
   "metadata": {},
   "source": [
    "After that I simply set up the SVM model using training and testing data splitting."
   ]
  },
  {
   "cell_type": "markdown",
   "metadata": {},
   "source": [
    " "
   ]
  },
  {
   "cell_type": "code",
   "execution_count": 117,
   "metadata": {
    "collapsed": false
   },
   "outputs": [
    {
     "name": "stdout",
     "output_type": "stream",
     "text": [
      "[[5142    5]\n",
      " [  64   26]]\n"
     ]
    },
    {
     "name": "stderr",
     "output_type": "stream",
     "text": [
      "/usr/lib/python3/dist-packages/scipy/sparse/coo.py:200: VisibleDeprecationWarning: `rank` is deprecated; use the `ndim` attribute or function instead. To find the rank of a matrix see `numpy.linalg.matrix_rank`.\n",
      "  if np.rank(self.data) != 1 or np.rank(self.row) != 1 or np.rank(self.col) != 1:\n"
     ]
    }
   ],
   "source": [
    "pred=model.predict(x_test)\n",
    "conf_mat_a = confusion_matrix(y_test,pred)\n",
    "print(conf_mat_a)"
   ]
  },
  {
   "cell_type": "markdown",
   "metadata": {},
   "source": [
    "Above is a confusion matrix displaying the results of the SVM model predicting when waves would be rough. "
   ]
  },
  {
   "cell_type": "code",
   "execution_count": 118,
   "metadata": {
    "collapsed": false
   },
   "outputs": [
    {
     "name": "stdout",
     "output_type": "stream",
     "text": [
      "              precision    recall  f1-score   support\n",
      "\n",
      "          No       0.99      1.00      0.99      5147\n",
      "         Yes       0.84      0.29      0.43        90\n",
      "\n",
      "   micro avg       0.99      0.99      0.99      5237\n",
      "   macro avg       0.91      0.64      0.71      5237\n",
      "weighted avg       0.99      0.99      0.98      5237\n",
      "\n"
     ]
    }
   ],
   "source": [
    "print(classification_report(y_test, pred))"
   ]
  },
  {
   "cell_type": "markdown",
   "metadata": {},
   "source": [
    "Finally, I produced a classification report. The report shows that the Yes pecision was .90 meaning that 90% of the wave periods that the data model predicted were rough, were actually rough. However, the recall was only .29 meaninf that the data model only predicted 29% of the total rough wave periods. This combines the make an F1 score of .43 which shows that the data model does have some predictive capabilities."
   ]
  },
  {
   "cell_type": "markdown",
   "metadata": {},
   "source": [
    "#### Next I am running an SVM model to predict when sharks will be near the shore"
   ]
  },
  {
   "cell_type": "code",
   "execution_count": 119,
   "metadata": {
    "collapsed": false
   },
   "outputs": [
    {
     "data": {
      "text/html": [
       "<div>\n",
       "<style scoped>\n",
       "    .dataframe tbody tr th:only-of-type {\n",
       "        vertical-align: middle;\n",
       "    }\n",
       "\n",
       "    .dataframe tbody tr th {\n",
       "        vertical-align: top;\n",
       "    }\n",
       "\n",
       "    .dataframe thead th {\n",
       "        text-align: right;\n",
       "    }\n",
       "</style>\n",
       "<table border=\"1\" class=\"dataframe\">\n",
       "  <thead>\n",
       "    <tr style=\"text-align: right;\">\n",
       "      <th></th>\n",
       "      <th>Hs</th>\n",
       "      <th>Hmax</th>\n",
       "      <th>Tz</th>\n",
       "      <th>Tp</th>\n",
       "      <th>Peak Direction</th>\n",
       "      <th>SST</th>\n",
       "      <th>Date</th>\n",
       "      <th>Time</th>\n",
       "      <th>Number Caught</th>\n",
       "      <th>Moon Phase</th>\n",
       "      <th>Count</th>\n",
       "      <th>month</th>\n",
       "      <th>day</th>\n",
       "      <th>Rough Waves</th>\n",
       "      <th>Shark Caught</th>\n",
       "    </tr>\n",
       "  </thead>\n",
       "  <tbody>\n",
       "    <tr>\n",
       "      <th>0</th>\n",
       "      <td>0.488</td>\n",
       "      <td>0.88</td>\n",
       "      <td>3.356</td>\n",
       "      <td>3.647</td>\n",
       "      <td>42.48</td>\n",
       "      <td>29.25</td>\n",
       "      <td>2017-01-01</td>\n",
       "      <td>1:00</td>\n",
       "      <td>0.0</td>\n",
       "      <td>1.0</td>\n",
       "      <td>1</td>\n",
       "      <td>1</td>\n",
       "      <td>1</td>\n",
       "      <td>No</td>\n",
       "      <td>No</td>\n",
       "    </tr>\n",
       "    <tr>\n",
       "      <th>1</th>\n",
       "      <td>0.517</td>\n",
       "      <td>0.94</td>\n",
       "      <td>3.323</td>\n",
       "      <td>3.441</td>\n",
       "      <td>29.48</td>\n",
       "      <td>29.20</td>\n",
       "      <td>2017-01-01</td>\n",
       "      <td>1:30</td>\n",
       "      <td>0.0</td>\n",
       "      <td>1.0</td>\n",
       "      <td>1</td>\n",
       "      <td>1</td>\n",
       "      <td>1</td>\n",
       "      <td>No</td>\n",
       "      <td>No</td>\n",
       "    </tr>\n",
       "    <tr>\n",
       "      <th>2</th>\n",
       "      <td>0.495</td>\n",
       "      <td>0.97</td>\n",
       "      <td>3.526</td>\n",
       "      <td>3.885</td>\n",
       "      <td>35.48</td>\n",
       "      <td>29.20</td>\n",
       "      <td>2017-01-01</td>\n",
       "      <td>2:00</td>\n",
       "      <td>0.0</td>\n",
       "      <td>1.0</td>\n",
       "      <td>1</td>\n",
       "      <td>1</td>\n",
       "      <td>1</td>\n",
       "      <td>No</td>\n",
       "      <td>No</td>\n",
       "    </tr>\n",
       "    <tr>\n",
       "      <th>3</th>\n",
       "      <td>0.463</td>\n",
       "      <td>0.94</td>\n",
       "      <td>3.408</td>\n",
       "      <td>3.796</td>\n",
       "      <td>33.48</td>\n",
       "      <td>29.20</td>\n",
       "      <td>2017-01-01</td>\n",
       "      <td>2:30</td>\n",
       "      <td>0.0</td>\n",
       "      <td>1.0</td>\n",
       "      <td>1</td>\n",
       "      <td>1</td>\n",
       "      <td>1</td>\n",
       "      <td>No</td>\n",
       "      <td>No</td>\n",
       "    </tr>\n",
       "    <tr>\n",
       "      <th>4</th>\n",
       "      <td>0.485</td>\n",
       "      <td>0.91</td>\n",
       "      <td>3.521</td>\n",
       "      <td>3.748</td>\n",
       "      <td>39.48</td>\n",
       "      <td>29.20</td>\n",
       "      <td>2017-01-01</td>\n",
       "      <td>3:00</td>\n",
       "      <td>0.0</td>\n",
       "      <td>1.0</td>\n",
       "      <td>1</td>\n",
       "      <td>1</td>\n",
       "      <td>1</td>\n",
       "      <td>No</td>\n",
       "      <td>No</td>\n",
       "    </tr>\n",
       "  </tbody>\n",
       "</table>\n",
       "</div>"
      ],
      "text/plain": [
       "      Hs  Hmax     Tz     Tp  Peak Direction    SST       Date  Time  \\\n",
       "0  0.488  0.88  3.356  3.647           42.48  29.25 2017-01-01  1:00   \n",
       "1  0.517  0.94  3.323  3.441           29.48  29.20 2017-01-01  1:30   \n",
       "2  0.495  0.97  3.526  3.885           35.48  29.20 2017-01-01  2:00   \n",
       "3  0.463  0.94  3.408  3.796           33.48  29.20 2017-01-01  2:30   \n",
       "4  0.485  0.91  3.521  3.748           39.48  29.20 2017-01-01  3:00   \n",
       "\n",
       "   Number Caught  Moon Phase  Count  month  day Rough Waves Shark Caught  \n",
       "0            0.0         1.0      1      1    1          No           No  \n",
       "1            0.0         1.0      1      1    1          No           No  \n",
       "2            0.0         1.0      1      1    1          No           No  \n",
       "3            0.0         1.0      1      1    1          No           No  \n",
       "4            0.0         1.0      1      1    1          No           No  "
      ]
     },
     "execution_count": 119,
     "metadata": {},
     "output_type": "execute_result"
    }
   ],
   "source": [
    "fd['Shark Caught'] = np.where(fd['Number Caught']>0, 'Yes', 'No')\n",
    "fd.head()"
   ]
  },
  {
   "cell_type": "markdown",
   "metadata": {},
   "source": [
    "First I created another classification column that stated whether a shark was caught near the shore on any given date."
   ]
  },
  {
   "cell_type": "code",
   "execution_count": 120,
   "metadata": {
    "collapsed": false
   },
   "outputs": [
    {
     "data": {
      "text/html": [
       "<div>\n",
       "<style scoped>\n",
       "    .dataframe tbody tr th:only-of-type {\n",
       "        vertical-align: middle;\n",
       "    }\n",
       "\n",
       "    .dataframe tbody tr th {\n",
       "        vertical-align: top;\n",
       "    }\n",
       "\n",
       "    .dataframe thead th {\n",
       "        text-align: right;\n",
       "    }\n",
       "</style>\n",
       "<table border=\"1\" class=\"dataframe\">\n",
       "  <thead>\n",
       "    <tr style=\"text-align: right;\">\n",
       "      <th></th>\n",
       "      <th>Hs</th>\n",
       "      <th>Hmax</th>\n",
       "      <th>Tz</th>\n",
       "      <th>Tp</th>\n",
       "      <th>Moon Phase</th>\n",
       "      <th>month</th>\n",
       "      <th>Shark Caught</th>\n",
       "    </tr>\n",
       "  </thead>\n",
       "  <tbody>\n",
       "    <tr>\n",
       "      <th>0</th>\n",
       "      <td>0.488</td>\n",
       "      <td>0.88</td>\n",
       "      <td>3.356</td>\n",
       "      <td>3.647</td>\n",
       "      <td>1.0</td>\n",
       "      <td>1</td>\n",
       "      <td>No</td>\n",
       "    </tr>\n",
       "    <tr>\n",
       "      <th>1</th>\n",
       "      <td>0.517</td>\n",
       "      <td>0.94</td>\n",
       "      <td>3.323</td>\n",
       "      <td>3.441</td>\n",
       "      <td>1.0</td>\n",
       "      <td>1</td>\n",
       "      <td>No</td>\n",
       "    </tr>\n",
       "    <tr>\n",
       "      <th>2</th>\n",
       "      <td>0.495</td>\n",
       "      <td>0.97</td>\n",
       "      <td>3.526</td>\n",
       "      <td>3.885</td>\n",
       "      <td>1.0</td>\n",
       "      <td>1</td>\n",
       "      <td>No</td>\n",
       "    </tr>\n",
       "    <tr>\n",
       "      <th>3</th>\n",
       "      <td>0.463</td>\n",
       "      <td>0.94</td>\n",
       "      <td>3.408</td>\n",
       "      <td>3.796</td>\n",
       "      <td>1.0</td>\n",
       "      <td>1</td>\n",
       "      <td>No</td>\n",
       "    </tr>\n",
       "    <tr>\n",
       "      <th>4</th>\n",
       "      <td>0.485</td>\n",
       "      <td>0.91</td>\n",
       "      <td>3.521</td>\n",
       "      <td>3.748</td>\n",
       "      <td>1.0</td>\n",
       "      <td>1</td>\n",
       "      <td>No</td>\n",
       "    </tr>\n",
       "  </tbody>\n",
       "</table>\n",
       "</div>"
      ],
      "text/plain": [
       "      Hs  Hmax     Tz     Tp  Moon Phase  month Shark Caught\n",
       "0  0.488  0.88  3.356  3.647         1.0      1           No\n",
       "1  0.517  0.94  3.323  3.441         1.0      1           No\n",
       "2  0.495  0.97  3.526  3.885         1.0      1           No\n",
       "3  0.463  0.94  3.408  3.796         1.0      1           No\n",
       "4  0.485  0.91  3.521  3.748         1.0      1           No"
      ]
     },
     "execution_count": 120,
     "metadata": {},
     "output_type": "execute_result"
    }
   ],
   "source": [
    "shark_predict = fd[['Hs', 'Hmax', 'Tz', 'Tp', 'Moon Phase', 'month', 'Shark Caught']]\n",
    "shark_predict.head()"
   ]
  },
  {
   "cell_type": "markdown",
   "metadata": {},
   "source": [
    "Next I created a seperate data frame with just the classification variable and the factor variables that would be attempting to predict it."
   ]
  },
  {
   "cell_type": "code",
   "execution_count": 121,
   "metadata": {
    "collapsed": false
   },
   "outputs": [],
   "source": [
    "x=shark_predict[['Hs', 'Hmax', 'Tz', 'Tp', 'Moon Phase', 'month']]\n",
    "y=shark_predict['Shark Caught']\n",
    "x_train,x_test, y_train, y_test=train_test_split(x,y,test_size=0.30)"
   ]
  },
  {
   "cell_type": "code",
   "execution_count": 122,
   "metadata": {
    "collapsed": false
   },
   "outputs": [
    {
     "name": "stderr",
     "output_type": "stream",
     "text": [
      "/usr/local/lib/python3.4/dist-packages/sklearn/svm/base.py:196: FutureWarning: The default value of gamma will change from 'auto' to 'scale' in version 0.22 to account better for unscaled features. Set gamma explicitly to 'auto' or 'scale' to avoid this warning.\n",
      "  \"avoid this warning.\", FutureWarning)\n"
     ]
    },
    {
     "data": {
      "text/plain": [
       "SVC(C=1.0, cache_size=200, class_weight=None, coef0=0.0,\n",
       "  decision_function_shape='ovr', degree=3, gamma='auto_deprecated',\n",
       "  kernel='rbf', max_iter=-1, probability=False, random_state=None,\n",
       "  shrinking=True, tol=0.001, verbose=False)"
      ]
     },
     "execution_count": 122,
     "metadata": {},
     "output_type": "execute_result"
    }
   ],
   "source": [
    "model=SVC()\n",
    "model.fit(x_train, y_train)"
   ]
  },
  {
   "cell_type": "markdown",
   "metadata": {},
   "source": [
    "After that I simply set up the SVM model using training and testing data splitting."
   ]
  },
  {
   "cell_type": "code",
   "execution_count": 123,
   "metadata": {
    "collapsed": false
   },
   "outputs": [
    {
     "name": "stdout",
     "output_type": "stream",
     "text": [
      "[[4147    0]\n",
      " [1086    4]]\n"
     ]
    },
    {
     "name": "stderr",
     "output_type": "stream",
     "text": [
      "/usr/lib/python3/dist-packages/scipy/sparse/coo.py:200: VisibleDeprecationWarning: `rank` is deprecated; use the `ndim` attribute or function instead. To find the rank of a matrix see `numpy.linalg.matrix_rank`.\n",
      "  if np.rank(self.data) != 1 or np.rank(self.row) != 1 or np.rank(self.col) != 1:\n"
     ]
    }
   ],
   "source": [
    "pred=model.predict(x_test)\n",
    "conf_mat_a = confusion_matrix(y_test,pred)\n",
    "print(conf_mat_a)"
   ]
  },
  {
   "cell_type": "markdown",
   "metadata": {},
   "source": [
    "Above is a confusion matrix displaying the results of the SVM model predicting when waves would be rough."
   ]
  },
  {
   "cell_type": "code",
   "execution_count": 124,
   "metadata": {
    "collapsed": false
   },
   "outputs": [
    {
     "name": "stdout",
     "output_type": "stream",
     "text": [
      "              precision    recall  f1-score   support\n",
      "\n",
      "          No       0.79      1.00      0.88      4147\n",
      "         Yes       1.00      0.00      0.01      1090\n",
      "\n",
      "   micro avg       0.79      0.79      0.79      5237\n",
      "   macro avg       0.90      0.50      0.45      5237\n",
      "weighted avg       0.84      0.79      0.70      5237\n",
      "\n"
     ]
    }
   ],
   "source": [
    "print(classification_report(y_test, pred))"
   ]
  },
  {
   "cell_type": "markdown",
   "metadata": {
    "collapsed": true
   },
   "source": [
    "Finally, I produced a classification report. The precision for Yes was very good at 1.00. Unfortunetly, the recall value was 0.00 meaning that the data model was able to predict 0% of the times sharks were near the shore. This made for a 0.01 F1 score meaning that this data model has virtually no predictive capabilities."
   ]
  },
  {
   "cell_type": "code",
   "execution_count": null,
   "metadata": {
    "collapsed": true
   },
   "outputs": [],
   "source": []
  }
 ],
 "metadata": {
  "kernelspec": {
   "display_name": "Python 3",
   "language": "python",
   "name": "python3"
  },
  "language_info": {
   "codemirror_mode": {
    "name": "ipython",
    "version": 3
   },
   "file_extension": ".py",
   "mimetype": "text/x-python",
   "name": "python",
   "nbconvert_exporter": "python",
   "pygments_lexer": "ipython3",
   "version": "3.4.3"
  }
 },
 "nbformat": 4,
 "nbformat_minor": 0
}
