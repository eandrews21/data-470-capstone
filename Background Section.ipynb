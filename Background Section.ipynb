{
 "cells": [
  {
   "cell_type": "markdown",
   "metadata": {
    "collapsed": true
   },
   "source": [
    "# Background Section\n",
    "\n",
    "### Using Oceanic Wave Data and Moon Phases to Predict Ocean Patterns and Animal Activity\n",
    "\n",
    "   Weather patterns are some of the most unpredictable phenomena on the planet. Despite all the innovations of the past 200 years, it still seems as though predicting the weather on a day to day basis is simply a guessing game. Even the best and brightest meteorologists frequently make mistakes with their predictions. However, that does not stop them from continually trying to improve. Whether it be new technology and refining existing tools, humanity is always attempting to move further towards perfection.\n",
    "    \n",
    "   This attempt to better predict weather patterns corresponds with attempting to better understand oceanic patterns as well. After all, with the amount of international trade that takes place via ships, in addition to the millions of tourists that take beach vacations every year and do not wish to be disturbed by shallow swimming sharks, understanding oceanic patterns and how they affect sea life is an important endeavor. \n",
    "    \n",
    "   With that being said, this project seeks to answer multiple questions about ocean patterns using wave data collected by buoys off of the coast of Queensland, Australia. The first problem that this dataset will be used for is finding relationships between the wave dataset variables. More specifically, can one variable or a combination of a few variables be used to accurately predict another one? The dataset has seven unique variables: date, time, average wave height, maximum wave height, average wave energy, wave frequency, wave peak direction, and sea surface temperature. The most important of these variables will be average and maximum wave height. Since greater wave height is generally associated with dangerous ocean conditions, being able to predict when waves were going to be at their largest would have positive real-world applications. Therefore, can sea surface temperature, date, time, wave peak direction, and wave energy by used to accurately and reliably predict average and maximum wave heights?\n",
    "    \n",
    "   Another problem that this project seeks to address is finding the correspondence, if one exists, between moon phases and oceanic patterns. It is generally known that the moon has an effect on wave patterns due to its gravitational pull on earth. However, the extent of this effect is worth looking into. Thus, this project seeks to examine whether moon phases can accurately and reliably predict any of the wave specific variable (average height, max height, peak direction, average energy, and frequency) in the wave dataset? \n",
    "    \n",
    "   Finally, this project will look at the problem of predicting animal (specifically sharks) activity along coastlines. Using data gathered via protective netting around portions of the Queensland coastline, it is possible to determine when sharks got a little too close for comfort to the shoreline. Combined with the wave data date it is possible to determine the general conditions of the ocean when these sharks got too close. Based on this data, this project will ask can oceanic data be used to predict the conditions that sharks will be most likely to end up near the shoreline?\n",
    "    \n",
    "   These problems are interesting for a multitude of reasons. The most prevalent of which are the safety concerns that this data can help combat. Over one hundred people suffer from shark attacks every year. More than three thousand people drown in the ocean per year. Nearly three dozen ships disappear or are destroyed in that same time frame. These may not be the most frightening number, but they clearly show that it is feasible to improve safety when it comes to the ocean. If this project is able to track and predict ocean patterns and shark activity, it will give more data to those people with the resources to improve ocean safety. These people, most likely government officials, are the ones who would be interested in this problem. If they were able to predict when the ocean would be at its most dangerous beforehand, they could forbid ships and beachgoers alike from entering the water until it is safer. \n",
    "    \n",
    "   There are a lot of studies out there that examine some of these questions. One study looked at the relationship between sea surface temperature and wave height. After a comprehensive study of this relationship, the researchers came to the conclusion that warmer sea surface temperatures were positively correlated with greater wave heights (Markina, Studholme, and Gulev). Another study looked at the role oceanic temperature played on shark habitation trends. The conclusion that this study found was that sharks generally were most active when the water temperature was about 28 degrees Celsius (Andrzejaczek). A third study examined the relationship between the phase of the moon and the height of waves. The study came to the conclusion that waves were at their greatest height during full and new moons as compared to quarter moons (Murmson). As these studies show, there is plenty of research and data on most of these topics. However, that does not mean that researchers have even scratched the tip of the iceberg on what can be learned about oceanic patterns. It will be very interesting to see if these studies are supported by the findings of this project. This project will, hopefully, also add some new findings to the existing knowledge base that academia has compiled on this topic. \n",
    "    \n",
    "##### Citations\n",
    "M. Y. Markina, J. H. P. Studholme and S. K. Gulev, Ocean Wind Wave Climate Responses to Wintertime North Atlantic Atmospheric Transient Eddies and Low-Frequency Flow, Journal of Climate, 10.1175/JCLI-D-18-0595.1, 32, 17, (5619-5638), (2019).\n",
    "\n",
    "Andrzejaczek, Samantha et al. “Temperature and the vertical movements of oceanic whitetip sharks, Carcharhinus longimanus.” Scientific reports vol. 8,1 8351. 29 May. 2018, doi:10.1038/s41598-018-26485-3\n",
    "\n",
    "Murmson, Serm. \"The Effects of the Moon Phases on Ocean Tides\" sciencing.com, https://sciencing.com/effects-moon-phases-ocean-tides-8435550.html. 22 October 2019.\n"
   ]
  }
 ],
 "metadata": {
  "kernelspec": {
   "display_name": "Python 3",
   "language": "python",
   "name": "python3"
  },
  "language_info": {
   "codemirror_mode": {
    "name": "ipython",
    "version": 3
   },
   "file_extension": ".py",
   "mimetype": "text/x-python",
   "name": "python",
   "nbconvert_exporter": "python",
   "pygments_lexer": "ipython3",
   "version": "3.4.3"
  }
 },
 "nbformat": 4,
 "nbformat_minor": 0
}
